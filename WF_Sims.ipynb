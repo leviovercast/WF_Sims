{
 "cells": [
  {
   "cell_type": "markdown",
   "id": "2f27d61b-6619-454b-874e-b08768b9f98b",
   "metadata": {},
   "source": [
    "# WF Sims\n",
    "\n",
    "## **1**    *Motivating Question and Models*\n",
    "\n",
    "Given an algorithm Generation on a jar of 10 randomly chosen marbles which are either red or white,\n",
    "\n",
    "Generation(n):\n",
    "    pick a marble, $M$, from the jar at random;\n",
    "    pick a different marble, $M'$, from the jar at random;\n",
    "    swap the $M$ for a marble of the same color as $M'$.\n",
    "    \n",
    "The expected probability of the color of $M'$ is the presence of that color in the jar, excluding $M$.\n",
    "If one color begins to predominate, the probability of that color increasing its presence is higher than the likelihood of a comeback for the other color.\n",
    "Furthermore, once a color makes up all of the jar, there is no further change in color. \n",
    "I expect that one color will always fill the jar sooner or later. \n",
    "\n",
    "### 1.1 Question\n",
    "What is the average number of iterations until the jar is full?\n",
    "\n",
    "\n",
    "### 1.2 First Model\n",
    "Model a bucket of ten items with two phenotypes as the binary expression of an integer $0 < n < 2^{10}-1$.\n"
   ]
  },
  {
   "cell_type": "code",
   "execution_count": 2,
   "id": "ce5dc4dd-ad28-49a3-b42d-c2dfa7fc158a",
   "metadata": {},
   "outputs": [
    {
     "name": "stdout",
     "output_type": "stream",
     "text": [
      "1017\n"
     ]
    }
   ],
   "source": [
    "from random import randint\n",
    "from matplotlib import pyplot as plt\n",
    "from statistics import mean, median, stdev, NormalDist\n",
    "import time\n",
    "import numpy as np\n",
    "\n",
    "n = randint(0,1023)\n",
    "print(n)\n"
   ]
  },
  {
   "cell_type": "markdown",
   "id": "3732e2e2-2fdd-424a-82fa-95b786dc4501",
   "metadata": {},
   "source": [
    "Pick a digit at random.\n",
    "Pick a second, different digit at random."
   ]
  },
  {
   "cell_type": "code",
   "execution_count": 19,
   "id": "9c6b0488-d2c8-4eb7-9d61-53eec9067d52",
   "metadata": {},
   "outputs": [
    {
     "name": "stdout",
     "output_type": "stream",
     "text": [
      "4\n",
      "2\n"
     ]
    }
   ],
   "source": [
    "i = randint(0,9)\n",
    "pick_1 = 2**i\n",
    "print(pick_1)\n",
    "j = randint(0,8)\n",
    "pick_2 = 2**(j + int(j >= i))\n",
    "print(pick_2)"
   ]
  },
  {
   "cell_type": "markdown",
   "id": "20441bad-7fbb-43a7-9fdd-0eacd8bf1810",
   "metadata": {},
   "source": [
    "If the pick_2 digit in $n$ is 1, change the pick_1 digit to 1.\n",
    "Otherwise, change the pick_1 digit to 0."
   ]
  },
  {
   "cell_type": "code",
   "execution_count": 20,
   "id": "d2685d04-c9aa-4e5c-a2b4-9dedad4ea280",
   "metadata": {},
   "outputs": [
    {
     "name": "stdout",
     "output_type": "stream",
     "text": [
      "128\n"
     ]
    }
   ],
   "source": [
    "if n & pick_2 > 0:\n",
    "    n = n | pick_1\n",
    "else:\n",
    "    n = n & (~ pick_1)\n",
    "print(n)"
   ]
  },
  {
   "cell_type": "markdown",
   "id": "38be48b0-57fe-4dd2-bb09-815c3d02802c",
   "metadata": {},
   "source": [
    "Giving us our desired function, Generate."
   ]
  },
  {
   "cell_type": "code",
   "execution_count": 34,
   "id": "058ba7fc-159d-4233-9121-945647b21a69",
   "metadata": {},
   "outputs": [
    {
     "name": "stdin",
     "output_type": "stream",
     "text": [
      "How many iterations:  0\n"
     ]
    },
    {
     "name": "stdout",
     "output_type": "stream",
     "text": [
      "Initial value: 939\n",
      "Gen 1: 943\n",
      "Gen 2: 943\n",
      "Gen 3: 1007\n",
      "Gen 4: 1007\n",
      "Gen 5: 495\n",
      "Gen 6: 495\n",
      "Gen 7: 495\n",
      "Gen 8: 495\n",
      "Gen 9: 495\n",
      "Gen 10: 495\n",
      "Gen 11: 495\n",
      "Gen 12: 495\n",
      "Gen 13: 495\n",
      "Gen 14: 487\n",
      "Gen 15: 487\n",
      "Gen 16: 485\n",
      "Gen 17: 501\n",
      "Gen 18: 501\n",
      "Gen 19: 373\n",
      "Gen 20: 885\n",
      "Gen 21: 881\n",
      "Gen 22: 881\n",
      "Gen 23: 881\n",
      "Gen 24: 817\n",
      "Gen 25: 817\n",
      "Gen 26: 817\n",
      "Gen 27: 945\n",
      "Gen 28: 945\n",
      "Gen 29: 945\n",
      "Gen 30: 947\n",
      "Gen 31: 947\n",
      "Gen 32: 947\n",
      "Gen 33: 951\n",
      "Gen 34: 951\n",
      "Gen 35: 951\n",
      "Gen 36: 919\n",
      "Gen 37: 919\n",
      "Gen 38: 951\n",
      "Gen 39: 951\n",
      "Gen 40: 951\n",
      "Gen 41: 951\n",
      "Gen 42: 951\n",
      "Gen 43: 951\n",
      "Gen 44: 951\n",
      "Gen 45: 695\n",
      "Gen 46: 695\n",
      "Gen 47: 567\n",
      "Gen 48: 551\n",
      "Gen 49: 551\n",
      "Gen 50: 551\n",
      "Gen 51: 551\n",
      "Gen 52: 679\n",
      "Gen 53: 679\n",
      "Gen 54: 935\n",
      "Gen 55: 951\n",
      "Gen 56: 1015\n",
      "Gen 57: 1015\n",
      "Gen 58: 1015\n",
      "Gen 59: 1015\n",
      "Gen 60: 1015\n",
      "Gen 61: 1015\n",
      "Gen 62: 1015\n",
      "Gen 63: 1015\n",
      "Gen 64: 1015\n",
      "Gen 65: 1015\n",
      "Gen 66: 1015\n",
      "Gen 67: 1015\n",
      "Gen 68: 503\n",
      "Gen 69: 503\n",
      "Gen 70: 511\n",
      "Gen 71: 511\n",
      "Gen 72: 511\n",
      "Gen 73: 511\n",
      "Gen 74: 511\n",
      "Gen 75: 511\n",
      "Gen 76: 511\n",
      "Gen 77: 511\n",
      "Gen 78: 511\n",
      "Gen 79: 511\n",
      "Gen 80: 511\n",
      "Gen 81: 511\n",
      "Gen 82: 510\n",
      "Gen 83: 446\n",
      "Gen 84: 958\n",
      "Gen 85: 958\n",
      "Gen 86: 958\n",
      "Gen 87: 958\n",
      "Gen 88: 958\n",
      "Gen 89: 830\n",
      "Gen 90: 830\n",
      "Gen 91: 831\n",
      "Gen 92: 831\n",
      "Gen 93: 831\n",
      "Gen 94: 895\n",
      "Gen 95: 895\n",
      "Gen 96: 895\n",
      "Gen 97: 895\n",
      "Gen 98: 895\n",
      "Gen 99: 895\n",
      "Gen 100: 895\n",
      "Gen 101: 895\n",
      "Gen 102: 1023\n",
      "Total Time: 0.016951560974121094\n",
      "0b1111111111\n"
     ]
    }
   ],
   "source": [
    "def Generate(n):\n",
    "    i = randint(0,9)\n",
    "    pick_1 = 2**i\n",
    "    j = randint(0,8)\n",
    "    pick_2 = 2**(j + int(j >= i))\n",
    "    if n & pick_2 > 0:\n",
    "        n = n | pick_1\n",
    "    else:\n",
    "        n = n & (~ pick_1)\n",
    "    return n\n",
    "\n",
    "count = 1\n",
    "t0 = time.time()\n",
    "n = randint(0,1023)\n",
    "print(\"Initial value:\",n)\n",
    "while n != 0 and n != 1023:\n",
    "    n = Generate(n)\n",
    "    print(\"Gen\",str(count)+\":\",n)\n",
    "    count += 1\n",
    "t1 = time.time()\n",
    "print(\"Total Time:\",t1-t0)\n",
    "#times.append(t1-t0)\n",
    "    \n",
    "print(bin(n))\n",
    "\n",
    "\n"
   ]
  },
  {
   "cell_type": "markdown",
   "id": "1a751dda-2259-409a-85e7-d511fd380792",
   "metadata": {},
   "source": [
    "\n",
    "\n",
    "Experimenting with histograms:"
   ]
  },
  {
   "cell_type": "code",
   "execution_count": 212,
   "id": "aaa2d6a9-e1ef-423c-9ea1-f536791423d5",
   "metadata": {},
   "outputs": [
    {
     "name": "stdin",
     "output_type": "stream",
     "text": [
      "How many iterations:  100000\n"
     ]
    },
    {
     "name": "stdout",
     "output_type": "stream",
     "text": [
      "Value 0: 781\n",
      "Count 0: 13\n",
      "Time Elapsed: 0.0010039806365966797\n",
      "Value 10000: 623\n",
      "Count 10000: 48\n",
      "Time Elapsed: 2.457263469696045\n",
      "Value 20000: 85\n",
      "Count 20000: 12\n",
      "Time Elapsed: 4.693802833557129\n",
      "Value 30000: 433\n",
      "Count 30000: 60\n",
      "Time Elapsed: 7.006453990936279\n",
      "Value 40000: 483\n",
      "Count 40000: 80\n",
      "Time Elapsed: 9.61548376083374\n",
      "Value 50000: 980\n",
      "Count 50000: 75\n",
      "Time Elapsed: 12.131474494934082\n",
      "Value 60000: 870\n",
      "Count 60000: 15\n",
      "Time Elapsed: 14.19037127494812\n",
      "Value 70000: 420\n",
      "Count 70000: 286\n",
      "Time Elapsed: 16.22065019607544\n",
      "Value 80000: 97\n",
      "Count 80000: 42\n",
      "Time Elapsed: 18.32060742378235\n",
      "Value 90000: 209\n",
      "Count 90000: 133\n",
      "Time Elapsed: 20.404953956604004\n",
      "Total Time: 22.54343342781067\n"
     ]
    },
    {
     "data": {
      "image/png": "[encoded data removed]",
      "text/plain": [
       "<Figure size 432x288 with 1 Axes>"
      ]
     },
     "metadata": {
      "needs_background": "light"
     },
     "output_type": "display_data"
    },
    {
     "name": "stdout",
     "output_type": "stream",
     "text": [
      "Mean: 53.25042 Median: 40.0 St Dev: 45.106949976616264\n"
     ]
    }
   ],
   "source": [
    "iter = int(input(\"How many iterations: \"))\n",
    "total_time = 0\n",
    "count_data = []\n",
    "\n",
    "\n",
    "for i in range(iter):\n",
    "    count = 0\n",
    "    t0 = time.time()\n",
    "    n = randint(0,1023)\n",
    "    if i%10000 == 0:\n",
    "        print(\"Value \"+str(i)+\":\",n)\n",
    "    \n",
    "    while n != 0 and n != 1023:\n",
    "        count += 1\n",
    "        n = Generate(n)\n",
    "        #print(\"Gen\",str(count)+\":\",n)\n",
    "    t1 = time.time()\n",
    "    total_time+= t1 - t0\n",
    "    if i%10000==0:\n",
    "        print(\"Count \"+str(i)+\":\",count)\n",
    "        print(\"Time Elapsed:\",total_time)\n",
    "    count_data.append(count)\n",
    "\n",
    "    \n",
    "print(\"Total Time:\",total_time)\n",
    "#times.append(t1-t0)\n",
    "\n",
    "plt.hist(count_data,bins=100)\n",
    "plt.show()\n",
    "print(\"Mean:\",mean(count_data),\"Median:\",median(count_data),\"St Dev:\",stdev(count_data))"
   ]
  },
  {
   "cell_type": "markdown",
   "id": "19a3e0bd-fe38-48f2-82ca-2119bd294a67",
   "metadata": {},
   "source": [
    "### 1.2 Second Model\n",
    "\n",
    "This model is more generalizable, although less computationally efficient in the base case.\n",
    "\n",
    "I model the jar as a Jar object with population and number of phenotypes set by the user. \n",
    "The population of the jar is modeled as a dictionary. "
   ]
  },
  {
   "cell_type": "code",
   "execution_count": 213,
   "id": "9dd215d2-e0c7-48c8-ac5b-643ebb68fae3",
   "metadata": {},
   "outputs": [
    {
     "name": "stdout",
     "output_type": "stream",
     "text": [
      "10, 2, [3, 7], {0: 1, 1: 1, 2: 1, 3: 0, 4: 1, 5: 0, 6: 0, 7: 1, 8: 1, 9: 1}, 0\n",
      "10, 2, [0, 10], {0: 1, 1: 1, 2: 1, 3: 1, 4: 1, 5: 1, 6: 1, 7: 1, 8: 1, 9: 1}, 183\n",
      "183\n"
     ]
    }
   ],
   "source": [
    "class Jar():\n",
    "    pop = None\n",
    "    phen = None\n",
    "    pool_comp = []\n",
    "    pool = dict()\n",
    "    gen_count = 0\n",
    "    \n",
    "    def __init__(self,pop,phen):\n",
    "        self.pop = pop\n",
    "        self.phen = phen\n",
    "        self.pool_comp = [0 for i in range(phen)]\n",
    "        for i in range(pop):\n",
    "            next = randint(0,phen-1)\n",
    "            self.pool[i] = next\n",
    "            self.pool_comp[next] += 1\n",
    "        \n",
    "            \n",
    "    def generate(self):\n",
    "        key_1 = randint(0,self.pop-1)\n",
    "        key_2 = randint(0,self.pop-2)\n",
    "        key_2 += int(key_2 >= key_1)\n",
    "        \n",
    "        #print(key_1,key_2)\n",
    "        \n",
    "        a = self.pool[key_1]\n",
    "        b = self.pool[key_2]\n",
    "        self.pool[key_1] = self.pool[key_2]\n",
    "        if a != b:\n",
    "            self.pool_comp[a] -= 1\n",
    "            self.pool_comp[b] += 1\n",
    "            \n",
    "        self.gen_count += 1\n",
    "         \n",
    "    \n",
    "    def dump(self):\n",
    "        return str(self.pop) + \", \" + str(self.phen) + \", \" + str(self.pool_comp) + \", \" + str(self.pool) + \", \" +  str(self.gen_count)\n",
    "    \n",
    "    def is_done(self):\n",
    "        if max(self.pool_comp) == self.pop: return True\n",
    "        return False\n",
    "    \n",
    "\n",
    "\n",
    "j = Jar(10,2)\n",
    "print(j.dump())\n",
    "while not j.is_done():\n",
    "    j.generate()\n",
    "\n",
    "print(j.dump())\n",
    "print(j.gen_count)\n",
    "\n",
    "\n"
   ]
  },
  {
   "cell_type": "code",
   "execution_count": 214,
   "id": "c7223417-6f07-464e-a515-8f955a596a62",
   "metadata": {},
   "outputs": [
    {
     "name": "stdout",
     "output_type": "stream",
     "text": [
      "Jar Experiment\n",
      "**************\n",
      "\n"
     ]
    },
    {
     "name": "stdin",
     "output_type": "stream",
     "text": [
      "How Many Marbles:  10\n",
      "How Many Colors:  2\n",
      "How many iterations:  100000\n"
     ]
    },
    {
     "name": "stdout",
     "output_type": "stream",
     "text": [
      "Count 0: 2\n",
      "Time Elapsed: 0.0009958744049072266\n",
      "Count 10000: 114\n",
      "Time Elapsed: 2.3297581672668457\n",
      "Count 20000: 104\n",
      "Time Elapsed: 4.68178391456604\n",
      "Count 30000: 3\n",
      "Time Elapsed: 7.3491997718811035\n",
      "Count 40000: 74\n",
      "Time Elapsed: 9.804757595062256\n",
      "Count 50000: 13\n",
      "Time Elapsed: 12.401286125183105\n",
      "Count 60000: 35\n",
      "Time Elapsed: 14.892069816589355\n",
      "Count 70000: 30\n",
      "Time Elapsed: 17.412832021713257\n",
      "Count 80000: 38\n",
      "Time Elapsed: 19.680789947509766\n",
      "Count 90000: 79\n",
      "Time Elapsed: 22.244836807250977\n",
      "Total Time: 24.86868405342102\n"
     ]
    },
    {
     "data": {
      "image/png": "[encoded data removed]",
      "text/plain": [
       "<Figure size 432x288 with 1 Axes>"
      ]
     },
     "metadata": {
      "needs_background": "light"
     },
     "output_type": "display_data"
    },
    {
     "name": "stdout",
     "output_type": "stream",
     "text": [
      "Mean: 53.46753 Median: 40.0 St Dev: 45.32448310556655\n"
     ]
    }
   ],
   "source": [
    "print(\"Jar Experiment\")\n",
    "print(\"**************\")\n",
    "print()\n",
    "\n",
    "pop = int(input(\"How Many Marbles: \"))\n",
    "phen = int(input(\"How Many Colors: \"))\n",
    "iter = int(input(\"How many iterations: \"))\n",
    "total_time = 0\n",
    "\n",
    "count_data = []\n",
    "total_time = 0\n",
    "\n",
    "for i in range(iter):\n",
    "    t0 = time.time()\n",
    "    j = Jar(pop,phen)\n",
    "    while not j.is_done():\n",
    "        j.generate()\n",
    "    count_data.append(j.gen_count)\n",
    "    t1 = time.time()\n",
    "    total_time += t1 - t0\n",
    "    if i%10000 == 0:\n",
    "        print(\"Count \"+str(i)+\":\",j.gen_count)\n",
    "        print(\"Time Elapsed:\", total_time)\n",
    "    \n",
    "\n",
    "print(\"Total Time:\",total_time)\n",
    "\n",
    "plt.hist(count_data,bins=100)\n",
    "plt.show()\n",
    "print(\"Mean:\",mean(count_data),\"Median:\",median(count_data),\"St Dev:\",stdev(count_data))\n",
    "\n",
    "\n",
    "    "
   ]
  },
  {
   "cell_type": "markdown",
   "id": "37224ea0-6e17-4560-b5e1-aa310eccbccc",
   "metadata": {},
   "source": [
    "## **2**    *Probability of Fixation*\n",
    "Let's define ***fixation*** as the state when a jar is fully occupied by one color of marble and cannot change with any more generations. \n",
    "\n",
    "In the case of white and red marbles, there are _two fixations_. The jar can be filled with _all white marbles_ or _all red marbles_. So for $n$ phenotypes, there are $n$ fixations.\n",
    "\n",
    "The ***rate of fixation*** is the probability distribution of fixation over each color. So we count up all the fixations on each color and divide that by the total number of samples.\n",
    "\n",
    "The _initial conditions_ of the experiment above were the number of marbles and the number of colors or phenotypes. Now add the _probability distribution_ of the colors when they are first picked to the initial conditions. \n",
    "\n",
    "In the first question, when the colors are assigned I assumed the probability for each color was equal.\n",
    "\n",
    "### 2.1 Question\n",
    "How does probability distribution of color assignment affect the rate of fixation?\n",
    "We'll start with a probability distribution of 1 red : 9 white marbles.\n",
    "\n"
   ]
  },
  {
   "cell_type": "code",
   "execution_count": 2,
   "id": "47af51b9-4103-4042-b7fd-09ae01f9c2b1",
   "metadata": {},
   "outputs": [
    {
     "name": "stdout",
     "output_type": "stream",
     "text": [
      "[1 9]\n"
     ]
    }
   ],
   "source": [
    "import numpy as np\n",
    "\n",
    "mean = [0, 0]\n",
    "cov = [[1, 0], [0, 100]]  # diagonal covariance\n",
    "\n",
    "'''\n",
    "print(list(np.random.binomial(10,0.1,10)))\n",
    "x, y = np.random.multivariate_normal(mean, cov, 5000).T\n",
    "plt.plot(x, y, 'x')\n",
    "plt.axis('equal')\n",
    "plt.show()\n",
    "'''\n",
    "\n",
    "d = np.random.multinomial(10, [0.1,0.9], size=None)\n",
    "print(d)"
   ]
  },
  {
   "cell_type": "markdown",
   "id": "1f195d6a-f656-4742-a5d7-4972cb11dd2e",
   "metadata": {},
   "source": [
    "### Adding probability functionality to the Jar Class"
   ]
  },
  {
   "cell_type": "code",
   "execution_count": 3,
   "id": "306e8239-73fc-49ee-9225-297e18b903e9",
   "metadata": {},
   "outputs": [
    {
     "name": "stdout",
     "output_type": "stream",
     "text": [
      "10, 2, [ 0 10], {0: 1, 1: 1, 2: 1, 3: 1, 4: 1, 5: 1, 6: 1, 7: 1, 8: 1, 9: 1}, 0\n",
      "10, 2, [ 0 10], {0: 1, 1: 1, 2: 1, 3: 1, 4: 1, 5: 1, 6: 1, 7: 1, 8: 1, 9: 1}, 1\n"
     ]
    }
   ],
   "source": [
    "class Jar():\n",
    "    pop = None\n",
    "    phen = None\n",
    "    pool_comp = []\n",
    "    pool = dict()\n",
    "    gen_count = 0\n",
    "    \n",
    "    def __init__(self,pop,phen,*args):\n",
    "        self.pop = pop\n",
    "        self.phen = phen\n",
    "        \n",
    "        #creating the pool and pool_comp with a multinomial ndarray\n",
    "        #only accept first phen elements\n",
    "        if not len(args) == 0:\n",
    "            probs = []\n",
    "            for i in range(phen):\n",
    "                probs.append(args[0][i])\n",
    "            \n",
    "        else: probs = [0.5 for i in range(phen)]\n",
    "        \n",
    "        self.pool_comp = np.random.multinomial(pop,probs)\n",
    "        count = 0\n",
    "        for i in range(len(self.pool_comp)):\n",
    "            for j in range(self.pool_comp[i]):\n",
    "                self.pool[count] = i\n",
    "                count += 1\n",
    "            \n",
    "    def generate(self):\n",
    "        key_1 = randint(0,self.pop-1)\n",
    "        key_2 = randint(0,self.pop-2)\n",
    "        key_2 += int(key_2 >= key_1)\n",
    "        \n",
    "        #print(key_1,key_2)\n",
    "        \n",
    "        a = self.pool[key_1]\n",
    "        b = self.pool[key_2]\n",
    "        self.pool[key_1] = self.pool[key_2]\n",
    "        if a != b:\n",
    "            self.pool_comp[a] -= 1\n",
    "            self.pool_comp[b] += 1\n",
    "            \n",
    "        self.gen_count += 1\n",
    "         \n",
    "    \n",
    "    def dump(self):\n",
    "        return str(self.pop) + \", \" + str(self.phen) + \", \" + str(self.pool_comp) + \", \" + str(self.pool) + \", \" +  str(self.gen_count)\n",
    "    \n",
    "    def is_done(self):\n",
    "        if max(self.pool_comp) == self.pop: return True\n",
    "        return False\n",
    "    \n",
    "j = Jar(10,2,[0.1,0.9])\n",
    "print(j.dump())\n",
    "j.generate()\n",
    "print(j.dump())"
   ]
  },
  {
   "cell_type": "code",
   "execution_count": 70,
   "id": "8d2102de-a09c-4aa3-bc1c-f0385fedadd9",
   "metadata": {},
   "outputs": [
    {
     "data": {
      "text/plain": [
       "'10, 2, [4 6], {0: 0, 1: 0, 2: 0, 3: 0, 4: 1, 5: 1, 6: 1, 7: 1, 8: 1, 9: 1}, 0'"
      ]
     },
     "execution_count": 70,
     "metadata": {},
     "output_type": "execute_result"
    }
   ],
   "source": [
    "Jar(10,2).dump()"
   ]
  },
  {
   "cell_type": "code",
   "execution_count": 7,
   "id": "acc84fe5-526d-4eb5-a1c5-64c9c824b939",
   "metadata": {},
   "outputs": [
    {
     "name": "stdout",
     "output_type": "stream",
     "text": [
      "10 2 [0.5, 0.5] [6 4]\n",
      "{0: 0, 1: 0, 2: 0, 3: 0, 4: 0, 5: 0, 6: 1, 7: 1, 8: 1, 9: 1}\n",
      "0\n"
     ]
    }
   ],
   "source": [
    "d = np.random.multinomial(10, [0.1,0.9])\n",
    "\n"
   ]
  },
  {
   "cell_type": "markdown",
   "id": "186d7071-375e-459c-a55c-21e23b2f43df",
   "metadata": {},
   "source": [
    "Need to run an experiment where I collect\n",
    "probabilities of fixation for \n",
    "initial probabilities from [0.1,0.9] - [0.5,0.5]\n",
    "Probability of left-fixation = number of left fixations/number of fixations\n",
    "\n"
   ]
  },
  {
   "cell_type": "markdown",
   "id": "4a602481-92ed-4c24-b9fe-d292a4cb575a",
   "metadata": {},
   "source": [
    "#### Confidence Intervals\n",
    "\n",
    "The formula for confidence intervals is \n",
    "$$\n",
    "\\left( \\bar{x} - z^*\\frac{\\sigma}{\\sqrt{n}}, \\bar{x} + z^*\\frac{\\sigma}{\\sqrt{n}}\\right),\n",
    "$$\n",
    "\n",
    "where $\\bar{x}$ is the mean, $\\sigma$ is the standard deviation, $n$ is the number of observations, and $z^* = -\\Phi^{-1}(\\frac{\\alpha}{2})$, where $\\alpha$ is $1$ minus the confidence, and $\\Phi$ is the cumulative distribution function on the normal distribution of our data.\n",
    "\n",
    "For our purposes, we only need to calculate\n",
    "$$\n",
    "z^*\\frac{\\sigma}{\\sqrt{n}}.\n",
    "$$"
   ]
  },
  {
   "cell_type": "code",
   "execution_count": 294,
   "id": "fce035b9-12a0-448e-9601-cae33d68531f",
   "metadata": {},
   "outputs": [],
   "source": [
    "from math import sqrt\n",
    "\n",
    "def confidence_interval(data,alpha):\n",
    "    dist = NormalDist.from_samples(data)\n",
    "    z = -NormalDist().inv_cdf(alpha / 2.)\n",
    "    sigma = stdev(data)\n",
    "    return z*(sigma/sqrt(len(data)))\n",
    "    \n"
   ]
  },
  {
   "cell_type": "code",
   "execution_count": 71,
   "id": "d228b708-8e4a-4b4a-b803-538b10d4e45b",
   "metadata": {},
   "outputs": [
    {
     "name": "stdout",
     "output_type": "stream",
     "text": [
      ".--------------.\n",
      "|Jar Experiment|\n",
      "*--------------*\n",
      "\n"
     ]
    },
    {
     "name": "stdin",
     "output_type": "stream",
     "text": [
      "How Many Marbles:  10\n",
      "How Many Colors:  2\n",
      "How many iterations:  1000\n"
     ]
    },
    {
     "name": "stdout",
     "output_type": "stream",
     "text": [
      "Sampling from Probabilities: [0.01, 0.99]\n",
      "Count 0: 0\n",
      "Sampling from Probabilities: [0.03, 0.97]\n",
      "Count 0: 0\n",
      "Sampling from Probabilities: [0.1, 0.9]\n",
      "Count 0: 3\n",
      "Sampling from Probabilities: [0.2, 0.8]\n",
      "Count 0: 1\n",
      "Sampling from Probabilities: [0.3, 0.7]\n",
      "Count 0: 11\n",
      "Sampling from Probabilities: [0.4, 0.6]\n",
      "Count 0: 16\n",
      "Sampling from Probabilities: [0.5, 0.5]\n",
      "Count 0: 12\n",
      "Sampling from Probabilities: [0.6, 0.4]\n",
      "Count 0: 103\n",
      "Sampling from Probabilities: [0.7, 0.30000000000000004]\n",
      "Count 0: 6\n",
      "Sampling from Probabilities: [0.8, 0.19999999999999996]\n",
      "Count 0: 8\n",
      "Sampling from Probabilities: [0.9, 0.09999999999999998]\n",
      "Count 0: 23\n",
      "Sampling from Probabilities: [0.97, 0.030000000000000027]\n",
      "Count 0: 1\n",
      "Sampling from Probabilities: [0.99, 0.010000000000000009]\n",
      "Count 0: 0\n"
     ]
    },
    {
     "data": {
      "image/png": "[encoded data removed]",
      "text/plain": [
       "<Figure size 432x288 with 2 Axes>"
      ]
     },
     "metadata": {
      "needs_background": "light"
     },
     "output_type": "display_data"
    },
    {
     "name": "stdout",
     "output_type": "stream",
     "text": [
      "9.33 s ± 0 ns per loop (mean ± std. dev. of 1 run, 1 loop each)\n"
     ]
    }
   ],
   "source": [
    "%%timeit -n 1 -r 1\n",
    "\n",
    "left_fixations = dict()\n",
    "\n",
    "#want to plot\n",
    "#x-axis: left assignment probability\n",
    "#y-axis 1: probability of left-fixation - count up all left fixations/all fixations\n",
    "#y-axis 2: avg time to fixation - median of all generation counts\n",
    "\n",
    "fix_prob = []\n",
    "fix_prob_error = []\n",
    "\n",
    "avg_time = []\n",
    "assign_probs = [0.01,0.03,0.1,0.2,0.3,0.4,0.5,0.6,0.7,0.8,0.9,0.97,0.99]\n",
    "\n",
    "print(\".--------------.\")    \n",
    "print(\"|Jar Experiment|\")\n",
    "print(\"*--------------*\")\n",
    "print()\n",
    "\n",
    "pop = int(input(\"How Many Marbles: \"))\n",
    "phen = int(input(\"How Many Colors: \"))\n",
    "iter = int(input(\"How many iterations: \"))\n",
    "\n",
    "for prob_left in assign_probs:\n",
    "    probs = [prob_left,1.0-prob_left]\n",
    "    print(\"Sampling from Probabilities:\",probs)\n",
    "    count_data = []\n",
    "    color_data = [0,0]\n",
    "    is_red_fix = []\n",
    "    \n",
    "    for i in range(iter):\n",
    "        j = Jar(pop,phen,probs)\n",
    "        while not j.is_done():\n",
    "            j.generate()\n",
    "        if j.pool[0] == 0: \n",
    "            color_data[0] += 1\n",
    "            is_red_fix.append(1)\n",
    "        else:\n",
    "            is_red_fix.append(0)\n",
    "        color_data[1] += 1\n",
    "        count_data.append(j.gen_count)\n",
    "        if i%1000 == 0:\n",
    "            print(\"Count \"+str(i)+\":\",j.gen_count)\n",
    "            \n",
    "    avg_time.append(median(count_data))\n",
    "    \n",
    "    fix_prob.append(color_data[0]/color_data[1])\n",
    "    fix_prob_error.append(confidence_interval(is_red_fix,0.05))\n",
    "\n",
    "plt.figure()\n",
    "\n",
    "plt.subplot(221)\n",
    "plt.errorbar(assign_probs, fix_prob,yerr=fix_prob_error,xerr=None,color='red',elinewidth=1,ecolor='black',capsize=2)\n",
    "plt.xlabel(\"Prob. of Red Marble Assignment\")\n",
    "plt.ylabel(\"Prob. of Red Fixation\")\n",
    "\n",
    "plt.subplot(222)\n",
    "plt.plot(assign_probs, avg_time,color='yellow',marker='x')\n",
    "plt.xlabel(\"Prob. of Red Marble Assignment\")\n",
    "plt.ylabel(\"Median Time to Fixation\")\n",
    "\n",
    "plt.subplots_adjust(wspace=0.4)\n",
    "\n",
    "plt.show()\n"
   ]
  },
  {
   "cell_type": "markdown",
   "id": "8c6715e4-56f0-4918-913d-515349c47256",
   "metadata": {},
   "source": [
    "### 2.2 More Phenotypes\n",
    "\n",
    "What if we add more phenotypes? How does that impact the probability of red fixation?\n",
    "\n",
    "Say we have red, white, and black marbles. Say the initial assignment probabilities are [0.4,0.3,0.3]. What is the probability of red fixation? What is the average time to fixation?\n",
    "\n"
   ]
  },
  {
   "cell_type": "code",
   "execution_count": 84,
   "id": "44bbf831-a303-4ea7-a64c-3916dafb611b",
   "metadata": {},
   "outputs": [
    {
     "data": {
      "image/png": "[encoded data removed]",
      "text/plain": [
       "<Figure size 432x288 with 1 Axes>"
      ]
     },
     "metadata": {
      "needs_background": "light"
     },
     "output_type": "display_data"
    }
   ],
   "source": [
    "data = [[1,1,1,1,2,3,4,5,9],[1,2,2,2,2,2,3,4,5,7,8,8],[1,1,1,2,2,2,2,1,3,3,4,5,8,9,9]]\n",
    "plt.hist(data,density=True,histtype='bar', stacked=True, color=['red','yellow','blue'])\n",
    "plt.show()"
   ]
  },
  {
   "cell_type": "code",
   "execution_count": 89,
   "id": "f35dccc4-3aef-4287-8bd1-fe10061f972a",
   "metadata": {},
   "outputs": [
    {
     "name": "stdout",
     "output_type": "stream",
     "text": [
      ".--------------.\n",
      "|Jar Experiment|\n",
      "| Three Colors |\n",
      "*--------------*\n",
      "\n",
      "Count 0: 178\n",
      "Count 1000: 12\n",
      "Count 2000: 75\n",
      "Count 3000: 46\n",
      "Count 4000: 60\n",
      "\n"
     ]
    },
    {
     "data": {
      "image/png": "[encoded data removed]",
      "text/plain": [
       "<Figure size 432x288 with 1 Axes>"
      ]
     },
     "metadata": {
      "needs_background": "light"
     },
     "output_type": "display_data"
    },
    {
     "name": "stdout",
     "output_type": "stream",
     "text": [
      "Fixations data: Mean: 62.4626 Median: 51.0 St Dev: 45.341148697326126\n",
      "Initial Probabilities: [0.4, 0.3, 0.3]\n",
      "Red Fixation Rate: 0.4002\n",
      "Yellow Fixation Rate: 0.293\n",
      "Blue Fixation Rate: 0.3068\n",
      "4.85 s ± 0 ns per loop (mean ± std. dev. of 1 run, 1 loop each)\n"
     ]
    }
   ],
   "source": [
    "%%timeit -n 1 -r 1\n",
    "\n",
    "red_fixations = dict()\n",
    "\n",
    "#want to plot\n",
    "#histogram of fixations by time to fixation,  number, split up into three chunks by phenotype\n",
    "\n",
    "\n",
    "avg_time = []\n",
    "\n",
    "print(\".--------------.\")    \n",
    "print(\"|Jar Experiment|\")\n",
    "print(\"| Three Colors |\")\n",
    "print(\"*--------------*\")\n",
    "print()\n",
    "\n",
    "pop = 10#int(input(\"How Many Marbles: \"))\n",
    "phen = 3#int(input(\"How Many Colors: \"))\n",
    "iter = 5000#int(input(\"How many iterations: \"))\n",
    "\n",
    "probs = [0.4,0.3,0.3]\n",
    "red_fix = []\n",
    "yellow_fix = []\n",
    "blue_fix = []\n",
    "count_data = []\n",
    "\n",
    "for i in range(iter):\n",
    "    j = Jar(pop,phen,probs)\n",
    "    while not j.is_done():\n",
    "        j.generate()\n",
    "    if j.pool[0] == 0: \n",
    "        red_fix.append(j.gen_count)\n",
    "    elif j.pool[0] == 1:\n",
    "        yellow_fix.append(j.gen_count)\n",
    "    else:\n",
    "        blue_fix.append(j.gen_count)\n",
    "        \n",
    "    count_data.append(j.gen_count)\n",
    "    if i%1000 == 0:\n",
    "        print(\"Count \"+str(i)+\":\",j.gen_count)\n",
    "\n",
    "plt.hist([red_fix,yellow_fix,blue_fix],bins=100,histtype='bar',density=True,stacked=True,color=['red','yellow','blue'],label=['red fixations','yellow fixations','blue fixations'])\n",
    "\n",
    "print()\n",
    "\n",
    "plt.show()\n",
    "\n",
    "print(\"Fixations data: Mean:\",mean(count_data),\"Median:\",median(count_data),\"St Dev:\",stdev(count_data))\n",
    "print(\"Initial Probabilities:\",probs)\n",
    "print(\"Red Fixation Rate:\",len(red_fix)/len(count_data))\n",
    "print(\"Yellow Fixation Rate:\",len(yellow_fix)/len(count_data))\n",
    "print(\"Blue Fixation Rate:\",len(blue_fix)/len(count_data))"
   ]
  },
  {
   "cell_type": "code",
   "execution_count": 18,
   "id": "946774f2-5395-4d88-8f41-a5e0b073ef3a",
   "metadata": {},
   "outputs": [
    {
     "name": "stdout",
     "output_type": "stream",
     "text": [
      "10, 3, [5 3 2], {0: 0, 1: 0, 2: 0, 3: 0, 4: 0, 5: 1, 6: 1, 7: 1, 8: 2, 9: 2}, 0\n",
      "10, 3, [8 1 1], {0: 0, 1: 0, 2: 0, 3: 0, 4: 0, 5: 0, 6: 0, 7: 1, 8: 0, 9: 2}, 10\n",
      "[1, 2, 2, 3]\n"
     ]
    }
   ],
   "source": [
    "j = Jar(10,3,[0.4,0.3,0.3])\n",
    "print(j.dump())\n",
    "for i in range(10):\n",
    "    j.generate()\n",
    "print(j.dump())\n",
    "print([1,2] + [2,3])"
   ]
  },
  {
   "cell_type": "markdown",
   "id": "1640fd73-9f00-4ade-ab72-2f9e59023e00",
   "metadata": {},
   "source": [
    "## ***3*** *Adding More Marbles*\n",
    "\n",
    "### 3.1 Question\n",
    "\n",
    "What is the relationship between number of marbles and average time to fixation?\n",
    "\n",
    "The impact of one marble on the composition of a jar is $\\frac{1}{n}$, where $n$ is the population. Therefore as $n$ grows, I expect the average time to fixation to grow at least linearly with $n$.\n",
    "\n",
    "### 3.2 Experiment 1\n",
    "\n",
    "Plot time to fixation with $n$ from [10,31,100,310,1000,3100,10000].\n",
    "\n",
    "Number of runs per value: 500.\n",
    "\n",
    "**Output**:\n",
    "\n",
    "Histogram for each value of $n$.\n",
    "Plot of $n$ vs average time to fixation with confidence intervals.\n",
    "\n",
    "Plot of $\\log(n)$ vs $\\log($average time to fixation$)$ with confidence intervals."
   ]
  },
  {
   "cell_type": "markdown",
   "id": "c0829915-35ae-47df-8f5a-7c3f3e2d3926",
   "metadata": {},
   "source": [
    "#### **** Test ****\n",
    "\n",
    "Creating and testing a function `plot_count_hist` to streamline histogram plotting."
   ]
  },
  {
   "cell_type": "code",
   "execution_count": 182,
   "id": "787a4e8f-ace8-4dd5-a5e1-f59b59c2c265",
   "metadata": {},
   "outputs": [],
   "source": [
    "def plot_count_hist(color_data,*args):\n",
    "    t = ''\n",
    "    if len(args) != 0:\n",
    "        t = args[0]\n",
    "    plt.hist(color_data,bins=100,histtype='bar',density=True,stacked=True,color=['red','yellow'],label=['red fixations','yellow fixations'])\n",
    "    plt.xlabel('Time to fixation')\n",
    "    plt.ylabel('Number of Fixations')\n",
    "    plt.title(t)\n",
    "    plt.show()"
   ]
  },
  {
   "cell_type": "code",
   "execution_count": 185,
   "id": "96995f58-d4a2-4be8-b5b1-f6a95bb6f2e7",
   "metadata": {},
   "outputs": [
    {
     "data": {
      "image/png": "[encoded data removed]",
      "text/plain": [
       "<Figure size 432x288 with 1 Axes>"
      ]
     },
     "metadata": {
      "needs_background": "light"
     },
     "output_type": "display_data"
    }
   ],
   "source": [
    "plot_count_hist([[1,1,1,1,2,3,4,5,9],[1,2,2,2,2,2,3,4,5,7,8,8]],'Title')"
   ]
  },
  {
   "cell_type": "code",
   "execution_count": 5,
   "id": "e654f959-c386-4f59-aecb-9393a366fc2e",
   "metadata": {},
   "outputs": [
    {
     "name": "stdout",
     "output_type": "stream",
     "text": [
      ".--------------.\n",
      "|Jar Experiment|\n",
      "| More Marbles |\n",
      "*--------------*\n",
      "\n",
      "Value of n: 10\n",
      "Time Elapsed: 0.0009915828704833984\n",
      "j = 0\n",
      "j = 100\n",
      "j = 200\n",
      "j = 300\n",
      "j = 400\n",
      "Value of n: 31\n",
      "Time Elapsed: 0.2496812343597412\n",
      "j = 0\n",
      "j = 100\n",
      "j = 200\n",
      "j = 300\n",
      "j = 400\n",
      "Value of n: 100\n",
      "Time Elapsed: 2.2258033752441406\n",
      "j = 0\n",
      "j = 100\n",
      "j = 200\n",
      "j = 300\n",
      "j = 400\n",
      "Value of n: 310\n",
      "Time Elapsed: 24.685993194580078\n",
      "j = 0\n",
      "j = 100\n",
      "j = 200\n",
      "j = 300\n",
      "j = 400\n",
      "Value of n: 1000\n",
      "Time Elapsed: 244.31424164772034\n",
      "j = 0\n",
      "j = 100\n",
      "j = 200\n",
      "j = 300\n",
      "j = 400\n"
     ]
    },
    {
     "data": {
      "image/png": "[encoded data removed]",
      "text/plain": [
       "<Figure size 432x288 with 1 Axes>"
      ]
     },
     "metadata": {
      "needs_background": "light"
     },
     "output_type": "display_data"
    },
    {
     "name": "stdout",
     "output_type": "stream",
     "text": [
      "Mean: 53.38 Median: 41.0 St Dev: 46.305334119687245\n"
     ]
    },
    {
     "data": {
      "image/png": "[encoded data removed]",
      "text/plain": [
       "<Figure size 432x288 with 1 Axes>"
      ]
     },
     "metadata": {
      "needs_background": "light"
     },
     "output_type": "display_data"
    },
    {
     "name": "stdout",
     "output_type": "stream",
     "text": [
      "Mean: 596.648 Median: 481.0 St Dev: 441.6402294634866\n"
     ]
    },
    {
     "data": {
      "image/png": "[encoded data removed]",
      "text/plain": [
       "<Figure size 432x288 with 1 Axes>"
      ]
     },
     "metadata": {
      "needs_background": "light"
     },
     "output_type": "display_data"
    },
    {
     "name": "stdout",
     "output_type": "stream",
     "text": [
      "Mean: 7073.974 Median: 5516.5 St Dev: 5150.455089463568\n"
     ]
    },
    {
     "data": {
      "image/png": "[encoded data removed]",
      "text/plain": [
       "<Figure size 432x288 with 1 Axes>"
      ]
     },
     "metadata": {
      "needs_background": "light"
     },
     "output_type": "display_data"
    },
    {
     "name": "stdout",
     "output_type": "stream",
     "text": [
      "Mean: 68966.608 Median: 53529.5 St Dev: 53960.83706719458\n"
     ]
    },
    {
     "data": {
      "image/png": "[encoded data removed]",
      "text/plain": [
       "<Figure size 432x288 with 1 Axes>"
      ]
     },
     "metadata": {
      "needs_background": "light"
     },
     "output_type": "display_data"
    },
    {
     "name": "stdout",
     "output_type": "stream",
     "text": [
      "Mean: 715712.716 Median: 562445.0 St Dev: 548040.9714753329\n"
     ]
    },
    {
     "ename": "AttributeError",
     "evalue": "'AxesSubplot' object has no attribute 'plt'",
     "output_type": "error",
     "traceback": [
      "\u001b[1;31m---------------------------------------------------------------------------\u001b[0m",
      "\u001b[1;31mAttributeError\u001b[0m                            Traceback (most recent call last)",
      "\u001b[1;32m<ipython-input-5-97624e770069>\u001b[0m in \u001b[0;36m<module>\u001b[1;34m\u001b[0m\n\u001b[0;32m     58\u001b[0m \u001b[1;33m\u001b[0m\u001b[0m\n\u001b[0;32m     59\u001b[0m \u001b[1;31m#mean\u001b[0m\u001b[1;33m\u001b[0m\u001b[1;33m\u001b[0m\u001b[1;33m\u001b[0m\u001b[0m\n\u001b[1;32m---> 60\u001b[1;33m \u001b[0max1\u001b[0m\u001b[1;33m.\u001b[0m\u001b[0mplt\u001b[0m\u001b[1;33m(\u001b[0m\u001b[0mmeans\u001b[0m\u001b[1;33m,\u001b[0m\u001b[0mpops\u001b[0m\u001b[1;33m,\u001b[0m\u001b[0mcolor\u001b[0m\u001b[1;33m=\u001b[0m\u001b[1;34m'orange'\u001b[0m\u001b[1;33m)\u001b[0m\u001b[1;33m\u001b[0m\u001b[1;33m\u001b[0m\u001b[0m\n\u001b[0m\u001b[0;32m     61\u001b[0m \u001b[1;31m#median\u001b[0m\u001b[1;33m\u001b[0m\u001b[1;33m\u001b[0m\u001b[1;33m\u001b[0m\u001b[0m\n\u001b[0;32m     62\u001b[0m \u001b[0max1\u001b[0m\u001b[1;33m.\u001b[0m\u001b[0mplt\u001b[0m\u001b[1;33m(\u001b[0m\u001b[0mmedians\u001b[0m\u001b[1;33m,\u001b[0m\u001b[0mpops\u001b[0m\u001b[1;33m,\u001b[0m\u001b[0mcolor\u001b[0m\u001b[1;33m=\u001b[0m\u001b[1;34m'blue'\u001b[0m\u001b[1;33m)\u001b[0m\u001b[1;33m\u001b[0m\u001b[1;33m\u001b[0m\u001b[0m\n",
      "\u001b[1;31mAttributeError\u001b[0m: 'AxesSubplot' object has no attribute 'plt'"
     ]
    },
    {
     "data": {
      "image/png": "[encoded data removed]",
      "text/plain": [
       "<Figure size 432x288 with 2 Axes>"
      ]
     },
     "metadata": {
      "needs_background": "light"
     },
     "output_type": "display_data"
    }
   ],
   "source": [
    "%timeit -n 1 -r 1\n",
    "print(\".--------------.\")    \n",
    "print(\"|Jar Experiment|\")\n",
    "print(\"| More Marbles |\")\n",
    "print(\"*--------------*\")\n",
    "print()\n",
    "\n",
    "pops = [10,31,100,310,1000]#,3100,10000]\n",
    "phen = 2#int(input(\"How Many Colors: \"))\n",
    "loops = 500#int(input(\"How many iterations: \"))\n",
    "total_time = 0\n",
    "\n",
    "color_data = []\n",
    "t0 = time.time()\n",
    "\n",
    "for i in range(len(pops)):\n",
    "    red = []\n",
    "    yellow = []\n",
    "    print(\"Value of n:\",pops[i])\n",
    "    tn = time.time()\n",
    "    print(\"Time Elapsed:\", tn-t0)\n",
    "    \n",
    "    for j in range(loops):\n",
    "        if j%100 == 0:\n",
    "            print(\"j =\",j)\n",
    "        jar = Jar(pops[i],phen)\n",
    "        \n",
    "        while not jar.is_done():\n",
    "            jar.generate()\n",
    "        \n",
    "        if jar.pool[0] == 0:\n",
    "            red.append(jar.gen_count)\n",
    "        else:\n",
    "            yellow.append(jar.gen_count)\n",
    "    color_data.append([red,yellow])\n",
    "\n",
    "means = []\n",
    "medians = []\n",
    "    \n",
    "for i in range(len(color_data)):\n",
    "    title = 'n = {0}'.format(pops[i])\n",
    "    \n",
    "    plot_count_hist(color_data[i], title)\n",
    "    agg = color_data[i][0] + color_data[i][1]\n",
    "    me = mean(agg)\n",
    "    md = median(agg)\n",
    "    means.append(me)\n",
    "    medians.append(md)\n",
    "    print(\"Mean:\",me,\"Median:\",md,\"St Dev:\",stdev(color_data[i][0]+color_data[i][1]))\n",
    "    \n",
    "    \n",
    "\n",
    "    \n",
    "\n",
    "\n"
   ]
  },
  {
   "cell_type": "code",
   "execution_count": 17,
   "id": "d74ba27b-b809-4b08-9046-6796e4c89a39",
   "metadata": {},
   "outputs": [
    {
     "data": {
      "image/png": "[encoded data removed]",
      "text/plain": [
       "<Figure size 432x288 with 2 Axes>"
      ]
     },
     "metadata": {
      "needs_background": "light"
     },
     "output_type": "display_data"
    }
   ],
   "source": [
    "#graphing n vs mean and median time to fixation\n",
    "#including log\n",
    "    \n",
    "fig, ((ax1, ax2)) = plt.subplots(2,1)\n",
    "\n",
    "#mean and median\n",
    "\n",
    "#mean\n",
    "ax1.plot(means,pops,color='orange')\n",
    "#median\n",
    "ax1.plot(medians,pops,color='blue')\n",
    "ax1.set(title=\"Mean and Median Time to Fixation vs n\")\n",
    "ax1.legend([\"Mean\", \"Median\"])\n",
    "ax1.set(xlabel=\"Generations to Fixation\")\n",
    "ax1.set(ylabel=\"Value of n\")\n",
    "\n",
    "#log mean and log median\n",
    "ax2.set(title=\"log Mean and log Median Time to Fixation vs log n\")\n",
    "#mean\n",
    "ax2.loglog(means,pops,color='orange')\n",
    "#median\n",
    "ax2.loglog(medians,pops,color='blue')\n",
    "ax2.legend([\"log Mean\", \"log Median\"])\n",
    "ax2.set(xlabel=\"Generations to Fixation\")\n",
    "ax2.set(ylabel=\"Value of n\")\n",
    "\n",
    "#plt.subplots_adjust(wspace=4)\n",
    "fig.tight_layout()\n",
    "plt.show()"
   ]
  },
  {
   "cell_type": "markdown",
   "id": "7342a95f-c9a9-4bf4-86fc-ca99cd2c7056",
   "metadata": {},
   "source": [
    "### 3.3 Results and Future Improvements\n",
    "\n",
    "- As in the above graphs, time to fixation $T(n)$ is $\\Theta(n^2)$, at least for values of $n \\leq 1000$. \n",
    "\n",
    "- A desirable improvement would be an algorithm to measure $T(n)$ without having call `generate` $T(n)$ times.\n"
   ]
  },
  {
   "cell_type": "markdown",
   "id": "c6720ccb-5691-4449-adf8-9d1afa8568af",
   "metadata": {},
   "source": [
    "## ***4*** *Whole-Jar Shuffling*\n",
    "\n",
    "Up until now we have selected one marble at a time for change. Suppose we shuffled every marble in the jar at once.\n",
    "\n",
    "We will add a new function `shuffle` to the `Jar` class which repopulates the jar from a multinomial distribution sampled from the phenotypic distribution of the current jar.\n",
    "\n",
    "### 4.1 Question 1\n",
    "\n",
    "What effect will shuffling the whole jar all at once have on the average time to fixation?\n",
    "\n"
   ]
  },
  {
   "cell_type": "code",
   "execution_count": 1,
   "id": "d1998c7b-5a25-466e-9ca8-f345249f97d2",
   "metadata": {},
   "outputs": [],
   "source": [
    "from random import randint\n",
    "from matplotlib import pyplot as plt\n",
    "from statistics import mean, median, stdev, NormalDist\n",
    "import time\n",
    "import numpy as np"
   ]
  },
  {
   "cell_type": "markdown",
   "id": "5d48b4e9-58a6-4933-ae98-f9c201f4f55b",
   "metadata": {},
   "source": [
    "#### Adding Shuffle Functionality to the Jar Class"
   ]
  },
  {
   "cell_type": "code",
   "execution_count": 331,
   "id": "fac3a43a-2067-46b0-bfec-5ea4b773904e",
   "metadata": {},
   "outputs": [],
   "source": [
    "class Jar():\n",
    "    pop = None\n",
    "    phen = None\n",
    "    pool = dict()\n",
    "    pool_comp = []\n",
    "    probs = []\n",
    "    gen_count = 0\n",
    "    fix = None\n",
    "    \n",
    "    def __init__(self,pop,phen,*args):\n",
    "        self.pop = pop\n",
    "        self.phen = phen\n",
    "        \n",
    "        #creating the pool and pool_comp with a multinomial ndarray\n",
    "        #only accept first phen elements\n",
    "        if not len(args) == 0:\n",
    "            probs = []\n",
    "            for i in range(phen):\n",
    "                probs.append(args[0][i])\n",
    "            self.probs = probs\n",
    "            \n",
    "        else: \n",
    "            probs = [0.5 for i in range(phen)]\n",
    "            self.probs = probs\n",
    "        \n",
    "        self.pool_comp = np.random.multinomial(pop,probs)\n",
    "        \n",
    "        self.__populate_pool__()\n",
    "        \n",
    "    def __as_probs__(self): return [phen_count/self.pop for phen_count in self.pool_comp]\n",
    "    \n",
    "    def __populate_pool__(self):\n",
    "        count = 0\n",
    "        for i in range(self.phen):\n",
    "            for j in range(self.pool_comp[i]):\n",
    "                self.pool[count] = i\n",
    "                count += 1\n",
    "                \n",
    "    '''\n",
    "    ##### An alternative generate algorithm which disposes of the pool dictionary. \n",
    "    ##### In experiments, it reduced average time to fixation for some reason.\n",
    "    \n",
    "    def generate_alt(self):\n",
    "        \n",
    "        probs = self.as_probs()\n",
    "        \n",
    "        #get digit for changing and digit to change to\n",
    "        picks = np.random.choice(self.phen,2,probs)\n",
    "        \n",
    "        #change pool comp\n",
    "        if picks[0] != picks[1]:\n",
    "            self.pool_comp[picks[0]] -= 1\n",
    "            self.pool_comp[picks[1]] += 1\n",
    "        \n",
    "        self.gen_count += 1\n",
    "    '''        \n",
    "        \n",
    "    def generate(self):\n",
    "        key_1 = np.random.randint(0,self.pop)\n",
    "        key_2 = np.random.randint(0,self.pop-1)\n",
    "        key_2 += int(key_2 >= key_1)\n",
    "        \n",
    "        a = self.pool[key_1]\n",
    "        b = self.pool[key_2]\n",
    "        self.pool[key_1] = self.pool[key_2]\n",
    "        if a != b:\n",
    "            self.pool_comp[a] -= 1\n",
    "            self.pool_comp[b] += 1\n",
    "            \n",
    "        self.gen_count += 1\n",
    "        \n",
    "        \n",
    "    def shuffle(self):\n",
    "        probs = self.__as_probs__()\n",
    "        self.pool_comp = np.random.multinomial(self.pop,probs)\n",
    "        self.__populate_pool__()\n",
    "        self.gen_count += 1\n",
    "    \n",
    "    def dump(self):\n",
    "        return str(self.pop) + \", \" + str(self.phen) + \", \" + str(self.pool_comp) + \", \" + str(self.pool) + \", \" +  str(self.gen_count)\n",
    "    \n",
    "    def is_done(self):\n",
    "        for i in range(self.phen):\n",
    "            if self.pool_comp[i] == self.pop: \n",
    "                self.fix = i\n",
    "                return True\n",
    "        return False"
   ]
  },
  {
   "cell_type": "markdown",
   "id": "b5d982b0-a04b-437f-b129-aea7f9faed55",
   "metadata": {},
   "source": [
    "#### 4.1.1 Experiment 1 \n",
    "\n",
    "Run 5000 `shuffle` and 5000 `generate`."
   ]
  },
  {
   "cell_type": "code",
   "execution_count": 332,
   "id": "644167eb-ba05-4c40-8e37-e0272672b7b9",
   "metadata": {},
   "outputs": [
    {
     "name": "stdout",
     "output_type": "stream",
     "text": [
      ".--------------.\n",
      "|Jar Experiment|\n",
      "|  Whole  Jar  |\n",
      "*--------------*\n",
      "\n",
      "Run Number: 4999\r"
     ]
    },
    {
     "data": {
      "image/png": "[encoded data removed]",
      "text/plain": [
       "<Figure size 432x288 with 1 Axes>"
      ]
     },
     "metadata": {
      "needs_background": "light"
     },
     "output_type": "display_data"
    },
    {
     "name": "stdout",
     "output_type": "stream",
     "text": [
      "Mean: 11.4286 Median: 9.0 St Dev: 9.243786646083501\n",
      "Run Number: 4999\r"
     ]
    },
    {
     "data": {
      "image/png": "[encoded data removed]",
      "text/plain": [
       "<Figure size 432x288 with 1 Axes>"
      ]
     },
     "metadata": {
      "needs_background": "light"
     },
     "output_type": "display_data"
    },
    {
     "name": "stdout",
     "output_type": "stream",
     "text": [
      "Mean: 53.8762 Median: 41.0 St Dev: 45.95563575505762\n",
      "9.64 s ± 0 ns per loop (mean ± std. dev. of 1 run, 1 loop each)\n"
     ]
    }
   ],
   "source": [
    "\n",
    "%%timeit -r 1 -n 1\n",
    "\n",
    "print(\".--------------.\")    \n",
    "print(\"|Jar Experiment|\")\n",
    "print(\"|  Whole  Jar  |\")\n",
    "print(\"*--------------*\")\n",
    "print()\n",
    "\n",
    "data = [[],[]]\n",
    "\n",
    "pop = 10\n",
    "phen = 2\n",
    "probs = [0.5,0.5]\n",
    "runs = 5000\n",
    "\n",
    "#***************************************************************\n",
    "#SHUFFLE EXPERIMENTS\n",
    "#***************************************************************\n",
    "\n",
    "for i in range(runs):\n",
    "    print(\"Run Number: %d\\r\"%i,end=\"\")\n",
    "    j = Jar(pop,phen,probs)\n",
    "    while not j.is_done():\n",
    "        j.shuffle()\n",
    "    data[j.fix].append(j.gen_count)\n",
    "        \n",
    "        \n",
    "plot_count_hist(data,'Whole Jar Shuffling')\n",
    "\n",
    "agg = data[0] + data[1]\n",
    "print(\"Mean:\",mean(agg),\"Median:\",median(agg),\"St Dev:\",stdev(agg))\n",
    "\n",
    "#***************************************************************\n",
    "#GENERATE EXPERIMENTS\n",
    "#***************************************************************\n",
    "data = [[],[]]\n",
    "\n",
    "for i in range(runs):\n",
    "    print(\"Run Number: %d\\r\"%i,end=\"\")\n",
    "    j = Jar(pop,phen,probs)\n",
    "    while not j.is_done():\n",
    "        j.generate()\n",
    "    data[j.fix].append(j.gen_count)\n",
    "        \n",
    "        \n",
    "plot_count_hist(data,'Single Marble Generating')\n",
    "\n",
    "agg = data[0] + data[1]\n",
    "print(\"Mean:\",mean(agg),\"Median:\",median(agg),\"St Dev:\",stdev(agg))"
   ]
  },
  {
   "cell_type": "markdown",
   "id": "ebe40542-ecda-4831-9611-3e0000da5d5c",
   "metadata": {},
   "source": [
    "### 4.2 Question 2\n",
    "\n",
    "I define `shuffle` specifically as taking a random subset $K$ of marbles from the jar $J$ and re-assigning them according to the population distribution within $K$.\n",
    "\n",
    "Suppose some number of marbles are shuffled at each generation, not necessarily all of them. What is the relationship between number of marbles shuffled in each generation and average time to fixation?\n",
    "\n",
    "Note that `shuffle` and `generate` are meaningfully different in operation. Consider `shuffle` acting on one marble. \n",
    "\n",
    "#### 4.2.1 Experiment 2\n",
    "\n",
    "First we add an argument $n$ to the shuffle method which tells it to shuffle only $n$ marbles in the jar."
   ]
  },
  {
   "cell_type": "code",
   "execution_count": 326,
   "id": "6f4a33a8-645d-4fc2-b1a9-1037e86194d8",
   "metadata": {},
   "outputs": [],
   "source": [
    "class Jar():\n",
    "    pop = None\n",
    "    phen = None\n",
    "    pool = dict()\n",
    "    pool_comp = []\n",
    "    probs = []\n",
    "    gen_count = 0\n",
    "    fix = None\n",
    "    \n",
    "    def __init__(self,pop,phen,*args):\n",
    "        self.pop = pop\n",
    "        self.phen = phen\n",
    "        \n",
    "        #creating the pool and pool_comp with a multinomial ndarray\n",
    "        #only accept first phen elements\n",
    "        if not len(args) == 0:\n",
    "            probs = []\n",
    "            for i in range(phen):\n",
    "                probs.append(args[0][i])\n",
    "            self.probs = probs\n",
    "            \n",
    "        else: \n",
    "            probs = [0.5 for i in range(phen)]\n",
    "            self.probs = probs\n",
    "        \n",
    "        self.pool_comp = np.random.multinomial(pop,probs)\n",
    "        \n",
    "        self.__populate_pool__()\n",
    "        \n",
    "    def __as_probs__(self, *args): \n",
    "        if len(args) == 0:\n",
    "            return [phen_count/self.pop for phen_count in self.pool_comp]\n",
    "        else:\n",
    "            comp = args[0]\n",
    "            pop = sum(comp)\n",
    "            return [phen_count/pop for phen_count in comp]\n",
    "        \n",
    "    def __populate_pool__(self):\n",
    "        count = 0\n",
    "        for i in range(self.phen):\n",
    "            for j in range(self.pool_comp[i]):\n",
    "                self.pool[count] = i\n",
    "                count += 1\n",
    "        \n",
    "    def generate(self):\n",
    "        key_1 = np.random.randint(0,self.pop)\n",
    "        key_2 = np.random.randint(0,self.pop-1)\n",
    "        key_2 += int(key_2 >= key_1)\n",
    "        \n",
    "        a = self.pool[key_1]\n",
    "        b = self.pool[key_2]\n",
    "        self.pool[key_1] = self.pool[key_2]\n",
    "        if a != b:\n",
    "            self.pool_comp[a] -= 1\n",
    "            self.pool_comp[b] += 1\n",
    "            \n",
    "        self.gen_count += 1\n",
    "        \n",
    "        \n",
    "    def shuffle(self,*args):\n",
    "        probs = self.__as_probs__()\n",
    "        if len(args) != 0:\n",
    "            n = args[0]\n",
    "            #need n randomly selected from pool_comp\n",
    "            change_indices = np.random.choice(self.pop,n,replace=False)\n",
    "            for_changing = [0 for i in range(self.phen)]\n",
    "            for i in range(n):\n",
    "                for_changing[self.pool[change_indices[i]]] += 1\n",
    "                \n",
    "            leftovers = [self.pool_comp[i] - for_changing[i] for i in range(self.phen)]\n",
    "            sub_probs = self.__as_probs__(for_changing)\n",
    "            \n",
    "            change_to = np.random.multinomial(n,sub_probs)\n",
    "            \n",
    "            self.pool_comp = [leftovers[i] + change_to[i] for i in range(self.phen)]\n",
    "            \n",
    "            #print(change_indices,for_changing,leftovers,sub_probs,change_to)\n",
    "        else:\n",
    "            self.pool_comp = np.random.multinomial(self.pop,probs)\n",
    "            \n",
    "        self.__populate_pool__()\n",
    "        self.gen_count += 1\n",
    "    \n",
    "    def dump(self):\n",
    "        return str(self.pop) + \", \" + str(self.phen) + \", \" + str(self.pool_comp) + \", \" + str(self.pool) + \", \" +  str(self.gen_count)\n",
    "    \n",
    "    def is_done(self):\n",
    "        for i in range(self.phen):\n",
    "            if self.pool_comp[i] == self.pop: \n",
    "                self.fix = i\n",
    "                return True\n",
    "        return False"
   ]
  },
  {
   "cell_type": "markdown",
   "id": "160caefb-af83-4b21-866e-f206f63653a6",
   "metadata": {},
   "source": [
    "#### **** Test ****\n",
    "\n",
    "Checking to see if `shuffle(10)` behaves."
   ]
  },
  {
   "cell_type": "code",
   "execution_count": 328,
   "id": "9621e3fb-a435-4c41-82c6-e3a7d45a2dc8",
   "metadata": {},
   "outputs": [
    {
     "data": {
      "image/png": "[encoded data removed]",
      "text/plain": [
       "<Figure size 432x288 with 1 Axes>"
      ]
     },
     "metadata": {
      "needs_background": "light"
     },
     "output_type": "display_data"
    },
    {
     "name": "stdout",
     "output_type": "stream",
     "text": [
      "11.588 9.0 9.912341323345887\n"
     ]
    }
   ],
   "source": [
    "#print(np.random.multinomial(8,[0.5,0.5]))\n",
    "data = [[],[]]\n",
    "for i in range(1000):\n",
    "    j = Jar(10,2)\n",
    "    while not j.is_done():\n",
    "        j.shuffle(10)\n",
    "    data[j.fix].append(j.gen_count)\n",
    "\n",
    "\n",
    "plot_count_hist(data)\n",
    "agg = data[0] + data[1]\n",
    "print(mean(agg), median(agg), stdev(agg))"
   ]
  },
  {
   "cell_type": "markdown",
   "id": "c80762e4-4ac2-47bb-b08a-8d3190fa0637",
   "metadata": {},
   "source": [
    "***Want:*** Graph of number of marbles shuffled versus average time to fixation.\n",
    "\n",
    "***Method:*** For each of the numbers 2 - 10, run 1000 `shuffle`. Collect mean data and 95% confidence intervals.\n",
    "\n"
   ]
  },
  {
   "cell_type": "code",
   "execution_count": 330,
   "id": "80be384a-643f-4f46-a64f-2ad2f7a697cb",
   "metadata": {},
   "outputs": [
    {
     "name": "stdout",
     "output_type": "stream",
     "text": [
      ".--------------.\n",
      "|Jar Experiment|\n",
      "| Shuffling  n |\n",
      "*--------------*\n",
      "\n",
      "Shuffling 2 Marbles.......\n",
      "Run Progress: 99%\r"
     ]
    },
    {
     "data": {
      "image/png": "[encoded data removed]",
      "text/plain": [
       "<Figure size 432x288 with 1 Axes>"
      ]
     },
     "metadata": {
      "needs_background": "light"
     },
     "output_type": "display_data"
    },
    {
     "name": "stdout",
     "output_type": "stream",
     "text": [
      "Mean: 105.541 Median: 79.0 St Dev: 90.80882424941731\n",
      "Shuffling 3 Marbles.......\n",
      "Run Progress: 99%\r"
     ]
    },
    {
     "data": {
      "image/png": "[encoded data removed]",
      "text/plain": [
       "<Figure size 432x288 with 1 Axes>"
      ]
     },
     "metadata": {
      "needs_background": "light"
     },
     "output_type": "display_data"
    },
    {
     "name": "stdout",
     "output_type": "stream",
     "text": [
      "Mean: 52.491 Median: 40.5 St Dev: 43.65833218263118\n",
      "Shuffling 4 Marbles.......\n",
      "Run Progress: 99%\r"
     ]
    },
    {
     "data": {
      "image/png": "[encoded data removed]",
      "text/plain": [
       "<Figure size 432x288 with 1 Axes>"
      ]
     },
     "metadata": {
      "needs_background": "light"
     },
     "output_type": "display_data"
    },
    {
     "name": "stdout",
     "output_type": "stream",
     "text": [
      "Mean: 36.541 Median: 27.0 St Dev: 30.5203507648718\n",
      "Shuffling 5 Marbles.......\n",
      "Run Progress: 99%\r"
     ]
    },
    {
     "data": {
      "image/png": "[encoded data removed]",
      "text/plain": [
       "<Figure size 432x288 with 1 Axes>"
      ]
     },
     "metadata": {
      "needs_background": "light"
     },
     "output_type": "display_data"
    },
    {
     "name": "stdout",
     "output_type": "stream",
     "text": [
      "Mean: 25.675 Median: 19.0 St Dev: 21.66200862380074\n",
      "Shuffling 6 Marbles.......\n",
      "Run Progress: 99%\r"
     ]
    },
    {
     "data": {
      "image/png": "[encoded data removed]",
      "text/plain": [
       "<Figure size 432x288 with 1 Axes>"
      ]
     },
     "metadata": {
      "needs_background": "light"
     },
     "output_type": "display_data"
    },
    {
     "name": "stdout",
     "output_type": "stream",
     "text": [
      "Mean: 22.237 Median: 17.0 St Dev: 17.92350643939637\n",
      "Shuffling 7 Marbles.......\n",
      "Run Progress: 99%\r"
     ]
    },
    {
     "data": {
      "image/png": "[encoded data removed]",
      "text/plain": [
       "<Figure size 432x288 with 1 Axes>"
      ]
     },
     "metadata": {
      "needs_background": "light"
     },
     "output_type": "display_data"
    },
    {
     "name": "stdout",
     "output_type": "stream",
     "text": [
      "Mean: 17.293 Median: 13.0 St Dev: 14.317127195465266\n",
      "Shuffling 8 Marbles.......\n",
      "Run Progress: 99%\r"
     ]
    },
    {
     "data": {
      "image/png": "[encoded data removed]",
      "text/plain": [
       "<Figure size 432x288 with 1 Axes>"
      ]
     },
     "metadata": {
      "needs_background": "light"
     },
     "output_type": "display_data"
    },
    {
     "name": "stdout",
     "output_type": "stream",
     "text": [
      "Mean: 14.347 Median: 11.0 St Dev: 11.775026209832497\n",
      "Shuffling 9 Marbles.......\n",
      "Run Progress: 99%\r"
     ]
    },
    {
     "data": {
      "image/png": "[encoded data removed]",
      "text/plain": [
       "<Figure size 432x288 with 1 Axes>"
      ]
     },
     "metadata": {
      "needs_background": "light"
     },
     "output_type": "display_data"
    },
    {
     "name": "stdout",
     "output_type": "stream",
     "text": [
      "Mean: 12.492 Median: 10.0 St Dev: 10.16992445219547\n",
      "Shuffling 10 Marbles.......\n",
      "Run Progress: 99%\r"
     ]
    },
    {
     "data": {
      "image/png": "[encoded data removed]",
      "text/plain": [
       "<Figure size 432x288 with 1 Axes>"
      ]
     },
     "metadata": {
      "needs_background": "light"
     },
     "output_type": "display_data"
    },
    {
     "name": "stdout",
     "output_type": "stream",
     "text": [
      "Mean: 11.636 Median: 9.0 St Dev: 9.38837822233668\n",
      "[105.541, 52.491, 36.541, 25.675, 22.237, 17.293, 14.347, 12.492, 11.636]\n",
      "[5.628285815920686, 2.705921740549717, 1.8916361788260265, 1.342600533477027, 1.110890025261669, 0.8873684312621911, 0.729810275011019, 0.6303268654383442, 0.5818870183600604]\n"
     ]
    },
    {
     "data": {
      "image/png": "[encoded data removed]",
      "text/plain": [
       "<Figure size 432x288 with 1 Axes>"
      ]
     },
     "metadata": {
      "needs_background": "light"
     },
     "output_type": "display_data"
    },
    {
     "name": "stdout",
     "output_type": "stream",
     "text": [
      "37.4 s ± 0 ns per loop (mean ± std. dev. of 1 run, 1 loop each)\n"
     ]
    }
   ],
   "source": [
    "%%timeit -r 1 -n 1\n",
    "\n",
    "print(\".--------------.\")    \n",
    "print(\"|Jar Experiment|\")\n",
    "print(\"| Shuffling  n |\")\n",
    "print(\"*--------------*\")\n",
    "print()\n",
    "\n",
    "data = [[],[]]\n",
    "\n",
    "pop = 10\n",
    "phen = 2\n",
    "probs = [0.5,0.5]\n",
    "runs = 1000\n",
    "\n",
    "nums = [i+2 for i in range(9)]\n",
    "\n",
    "mean_data = []\n",
    "error_data = []\n",
    "\n",
    "#***************************************************************\n",
    "#SHUFFLE EXPERIMENTS\n",
    "#***************************************************************\n",
    "\n",
    "for n in nums:\n",
    "    data = [[],[]]\n",
    "    print(\"Shuffling {0} Marbles.......\".format(n))\n",
    "    for i in range(runs):\n",
    "        prog = (100*i)//runs\n",
    "        print(\"Run Progress: %d%%\\r\" % prog,end=\"\")\n",
    "        j = Jar(pop,phen,probs)\n",
    "        while not j.is_done():\n",
    "            j.shuffle(n)\n",
    "        data[j.fix].append(j.gen_count)\n",
    "        \n",
    "        \n",
    "    plot_count_hist(data,\"Shuffling {0} Marbles\".format(n))\n",
    "\n",
    "    agg = data[0] + data[1]\n",
    "    me = mean(agg)\n",
    "    print(\"Mean:\",me,\"Median:\",median(agg),\"St Dev:\",stdev(agg))\n",
    "    mean_data.append(me)\n",
    "    error_data.append(confidence_interval(agg,0.05))\n",
    "print(mean_data)\n",
    "print(error_data)\n",
    "plt.errorbar(nums,mean_data,yerr=error_data,xerr=None,color='red',elinewidth=1,ecolor='black',capsize=2)\n",
    "plt.xlabel(\"Shuffling n Marbles\")\n",
    "plt.ylabel(\"Mean Time to fixation\")\n",
    "\n",
    "plt.show()"
   ]
  },
  {
   "cell_type": "markdown",
   "id": "6e314ff0-0405-4be9-aa65-a1ef94b47762",
   "metadata": {},
   "source": [
    "### 4.3 Results and Future Improvements\n",
    "- "
   ]
  },
  {
   "cell_type": "markdown",
   "id": "72a15ff7-e814-412b-921e-46c5840eea78",
   "metadata": {},
   "source": [
    "## ***5*** *External Sources of Diversity*\n",
    "\n",
    "### 5.1 Question 1\n",
    "\n",
    "Suppose the population of our jar is subject to infiltration from external marbles. What is the relationship between frequency of infiltration and time to fixation? \n",
    "\n",
    "Consider two separate jars. Suppose we periodically move marbles between them. What is the relationship between frequency of marble swaps and average time to fixation in the two jars?\n",
    "\n",
    "What is the least amount of filtration that will keep the jar unfixed in perpetuity?"
   ]
  }
 ],
 "metadata": {
  "kernelspec": {
   "display_name": "Python 3",
   "language": "python",
   "name": "python3"
  },
  "language_info": {
   "codemirror_mode": {
    "name": "ipython",
    "version": 3
   },
   "file_extension": ".py",
   "mimetype": "text/x-python",
   "name": "python",
   "nbconvert_exporter": "python",
   "pygments_lexer": "ipython3",
   "version": "3.9.4"
  }
 },
 "nbformat": 4,
 "nbformat_minor": 5
}
