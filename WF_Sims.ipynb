{
 "cells": [
  {
   "cell_type": "markdown",
   "id": "2f27d61b-6619-454b-874e-b08768b9f98b",
   "metadata": {},
   "source": [
    "# WF Sims\n",
    "\n",
    "Given an algorithm Generation on a jar of 10 randomly chosen marbles which are either red or white,\n",
    "\n",
    "Generation(n):\n",
    "    pick a marble, $M$, from the jar at random;\n",
    "    pick a different marble, $M'$, from the jar at random;\n",
    "    swap the $M$ for a marble of the same color as $M'$.\n",
    "    \n",
    "The expected probability of the color of $M'$ is the presence of that color in the jar, excluding $M$.\n",
    "If one color begins to predominate, the probability of that color increasing its presence is higher than the likelihood of a comeback for the other color.\n",
    "Furthermore, once a color makes up all of the jar, there is no further change in color. \n",
    "I expect that one color will always fill the jar sooner or later. \n",
    "\n",
    "### Question\n",
    "What is the average number of iterations until the jar is full?\n",
    "\n",
    "\n",
    "## Model 1\n",
    "Model a bucket of ten items with two phenotypes as the binary expression of an integer $0 < n < 2^{10}-1$.\n"
   ]
  },
  {
   "cell_type": "code",
   "execution_count": 18,
   "id": "ce5dc4dd-ad28-49a3-b42d-c2dfa7fc158a",
   "metadata": {},
   "outputs": [
    {
     "name": "stdout",
     "output_type": "stream",
     "text": [
      "128\n"
     ]
    }
   ],
   "source": [
    "from random import randint\n",
    "\n",
    "n = randint(0,1023)\n",
    "print(n)\n"
   ]
  },
  {
   "cell_type": "markdown",
   "id": "3732e2e2-2fdd-424a-82fa-95b786dc4501",
   "metadata": {},
   "source": [
    "Pick a digit at random.\n",
    "Pick a second, different digit at random."
   ]
  },
  {
   "cell_type": "code",
   "execution_count": 19,
   "id": "9c6b0488-d2c8-4eb7-9d61-53eec9067d52",
   "metadata": {},
   "outputs": [
    {
     "name": "stdout",
     "output_type": "stream",
     "text": [
      "4\n",
      "2\n"
     ]
    }
   ],
   "source": [
    "i = randint(0,9)\n",
    "pick_1 = 2**i\n",
    "print(pick_1)\n",
    "j = randint(0,8)\n",
    "pick_2 = 2**(j + int(j >= i))\n",
    "print(pick_2)"
   ]
  },
  {
   "cell_type": "markdown",
   "id": "20441bad-7fbb-43a7-9fdd-0eacd8bf1810",
   "metadata": {},
   "source": [
    "If the pick_2 digit in $n$ is 1, change the pick_1 digit to 1.\n",
    "Otherwise, change the pick_1 digit to 0."
   ]
  },
  {
   "cell_type": "code",
   "execution_count": 20,
   "id": "d2685d04-c9aa-4e5c-a2b4-9dedad4ea280",
   "metadata": {},
   "outputs": [
    {
     "name": "stdout",
     "output_type": "stream",
     "text": [
      "128\n"
     ]
    }
   ],
   "source": [
    "if n & pick_2 > 0:\n",
    "    n = n | pick_1\n",
    "else:\n",
    "    n = n & (~ pick_1)\n",
    "print(n)"
   ]
  },
  {
   "cell_type": "markdown",
   "id": "38be48b0-57fe-4dd2-bb09-815c3d02802c",
   "metadata": {},
   "source": [
    "Giving us our desired function."
   ]
  },
  {
   "cell_type": "code",
   "execution_count": 34,
   "id": "058ba7fc-159d-4233-9121-945647b21a69",
   "metadata": {},
   "outputs": [
    {
     "name": "stdin",
     "output_type": "stream",
     "text": [
      "How many iterations:  0\n"
     ]
    },
    {
     "name": "stdout",
     "output_type": "stream",
     "text": [
      "Initial value: 939\n",
      "Gen 1: 943\n",
      "Gen 2: 943\n",
      "Gen 3: 1007\n",
      "Gen 4: 1007\n",
      "Gen 5: 495\n",
      "Gen 6: 495\n",
      "Gen 7: 495\n",
      "Gen 8: 495\n",
      "Gen 9: 495\n",
      "Gen 10: 495\n",
      "Gen 11: 495\n",
      "Gen 12: 495\n",
      "Gen 13: 495\n",
      "Gen 14: 487\n",
      "Gen 15: 487\n",
      "Gen 16: 485\n",
      "Gen 17: 501\n",
      "Gen 18: 501\n",
      "Gen 19: 373\n",
      "Gen 20: 885\n",
      "Gen 21: 881\n",
      "Gen 22: 881\n",
      "Gen 23: 881\n",
      "Gen 24: 817\n",
      "Gen 25: 817\n",
      "Gen 26: 817\n",
      "Gen 27: 945\n",
      "Gen 28: 945\n",
      "Gen 29: 945\n",
      "Gen 30: 947\n",
      "Gen 31: 947\n",
      "Gen 32: 947\n",
      "Gen 33: 951\n",
      "Gen 34: 951\n",
      "Gen 35: 951\n",
      "Gen 36: 919\n",
      "Gen 37: 919\n",
      "Gen 38: 951\n",
      "Gen 39: 951\n",
      "Gen 40: 951\n",
      "Gen 41: 951\n",
      "Gen 42: 951\n",
      "Gen 43: 951\n",
      "Gen 44: 951\n",
      "Gen 45: 695\n",
      "Gen 46: 695\n",
      "Gen 47: 567\n",
      "Gen 48: 551\n",
      "Gen 49: 551\n",
      "Gen 50: 551\n",
      "Gen 51: 551\n",
      "Gen 52: 679\n",
      "Gen 53: 679\n",
      "Gen 54: 935\n",
      "Gen 55: 951\n",
      "Gen 56: 1015\n",
      "Gen 57: 1015\n",
      "Gen 58: 1015\n",
      "Gen 59: 1015\n",
      "Gen 60: 1015\n",
      "Gen 61: 1015\n",
      "Gen 62: 1015\n",
      "Gen 63: 1015\n",
      "Gen 64: 1015\n",
      "Gen 65: 1015\n",
      "Gen 66: 1015\n",
      "Gen 67: 1015\n",
      "Gen 68: 503\n",
      "Gen 69: 503\n",
      "Gen 70: 511\n",
      "Gen 71: 511\n",
      "Gen 72: 511\n",
      "Gen 73: 511\n",
      "Gen 74: 511\n",
      "Gen 75: 511\n",
      "Gen 76: 511\n",
      "Gen 77: 511\n",
      "Gen 78: 511\n",
      "Gen 79: 511\n",
      "Gen 80: 511\n",
      "Gen 81: 511\n",
      "Gen 82: 510\n",
      "Gen 83: 446\n",
      "Gen 84: 958\n",
      "Gen 85: 958\n",
      "Gen 86: 958\n",
      "Gen 87: 958\n",
      "Gen 88: 958\n",
      "Gen 89: 830\n",
      "Gen 90: 830\n",
      "Gen 91: 831\n",
      "Gen 92: 831\n",
      "Gen 93: 831\n",
      "Gen 94: 895\n",
      "Gen 95: 895\n",
      "Gen 96: 895\n",
      "Gen 97: 895\n",
      "Gen 98: 895\n",
      "Gen 99: 895\n",
      "Gen 100: 895\n",
      "Gen 101: 895\n",
      "Gen 102: 1023\n",
      "Total Time: 0.016951560974121094\n",
      "0b1111111111\n"
     ]
    }
   ],
   "source": [
    "import time\n",
    "\n",
    "\n",
    "\n",
    "times = []\n",
    "\n",
    "def Generate(n):\n",
    "    i = randint(0,9)\n",
    "    pick_1 = 2**i\n",
    "    j = randint(0,8)\n",
    "    pick_2 = 2**(j + int(j >= i))\n",
    "    if n & pick_2 > 0:\n",
    "        n = n | pick_1\n",
    "    else:\n",
    "        n = n & (~ pick_1)\n",
    "    return n\n",
    "\n",
    "count = 1\n",
    "t0 = time.time()\n",
    "n = randint(0,1023)\n",
    "print(\"Initial value:\",n)\n",
    "while n != 0 and n != 1023:\n",
    "    n = Generate(n)\n",
    "    print(\"Gen\",str(count)+\":\",n)\n",
    "    count += 1\n",
    "t1 = time.time()\n",
    "print(\"Total Time:\",t1-t0)\n",
    "#times.append(t1-t0)\n",
    "    \n",
    "print(bin(n))\n",
    "\n",
    "\n"
   ]
  },
  {
   "cell_type": "code",
   "execution_count": 24,
   "id": "c79b9aff-87ab-45df-bc86-84328ac774ea",
   "metadata": {},
   "outputs": [
    {
     "data": {
      "image/png": "[encoded data removed]",
      "text/plain": [
       "<Figure size 432x288 with 1 Axes>"
      ]
     },
     "metadata": {
      "needs_background": "light"
     },
     "output_type": "display_data"
    },
    {
     "name": "stdout",
     "output_type": "stream",
     "text": [
      "50.0427 50.0 29.17848548351184\n"
     ]
    }
   ],
   "source": [
    "from matplotlib import pyplot as plt\n",
    "from statistics import mean, median, stdev\n",
    "\n",
    "data = [randint(0,100) for i in range(10000)]\n",
    "\n",
    "plt.hist(data,bins=100)\n",
    "\n",
    "plt.show()\n",
    "\n",
    "print(mean(data),median(data),stdev(data))"
   ]
  },
  {
   "cell_type": "code",
   "execution_count": 205,
   "id": "aaa2d6a9-e1ef-423c-9ea1-f536791423d5",
   "metadata": {},
   "outputs": [
    {
     "name": "stdin",
     "output_type": "stream",
     "text": [
      "How many iterations:  100000\n"
     ]
    },
    {
     "name": "stdout",
     "output_type": "stream",
     "text": [
      "Value 1: 10\n",
      "Value 1001: 891\n",
      "Value 2001: 806\n",
      "Value 3001: 746\n",
      "Value 4001: 721\n",
      "Value 5001: 823\n",
      "Value 6001: 646\n",
      "Value 7001: 610\n",
      "Value 8001: 601\n",
      "Value 9001: 47\n",
      "Value 10001: 604\n",
      "Value 11001: 728\n",
      "Value 12001: 730\n",
      "Value 13001: 544\n",
      "Value 14001: 387\n",
      "Value 15001: 423\n",
      "Value 16001: 604\n",
      "Value 17001: 17\n",
      "Value 18001: 46\n",
      "Value 19001: 260\n",
      "Value 20001: 114\n",
      "Value 21001: 195\n",
      "Value 22001: 860\n",
      "Value 23001: 641\n",
      "Value 24001: 208\n",
      "Value 25001: 19\n",
      "Value 26001: 850\n",
      "Value 27001: 61\n",
      "Value 28001: 730\n",
      "Value 29001: 486\n",
      "Value 30001: 972\n",
      "Value 31001: 1001\n",
      "Value 32001: 244\n",
      "Value 33001: 804\n",
      "Value 34001: 642\n",
      "Value 35001: 215\n",
      "Value 36001: 988\n",
      "Value 37001: 947\n",
      "Value 38001: 732\n",
      "Value 39001: 884\n",
      "Value 40001: 870\n",
      "Value 41001: 821\n",
      "Value 42001: 173\n",
      "Value 43001: 884\n",
      "Value 44001: 550\n",
      "Value 45001: 670\n",
      "Value 46001: 213\n",
      "Value 47001: 302\n",
      "Value 48001: 366\n",
      "Value 49001: 879\n",
      "Value 50001: 82\n",
      "Value 51001: 50\n",
      "Value 52001: 506\n",
      "Value 53001: 647\n",
      "Value 54001: 405\n",
      "Value 55001: 769\n",
      "Value 56001: 177\n",
      "Value 57001: 84\n",
      "Value 58001: 29\n",
      "Value 59001: 823\n",
      "Value 60001: 361\n",
      "Value 61001: 189\n",
      "Value 62001: 626\n",
      "Value 63001: 979\n",
      "Value 64001: 959\n",
      "Value 65001: 914\n",
      "Value 66001: 189\n",
      "Value 67001: 897\n",
      "Value 68001: 708\n",
      "Value 69001: 162\n",
      "Value 70001: 504\n",
      "Value 71001: 272\n",
      "Value 72001: 67\n",
      "Value 73001: 930\n",
      "Value 74001: 24\n",
      "Value 75001: 873\n",
      "Value 76001: 301\n",
      "Value 77001: 869\n",
      "Value 78001: 30\n",
      "Value 79001: 857\n",
      "Value 80001: 572\n",
      "Value 81001: 710\n",
      "Value 82001: 392\n",
      "Value 83001: 854\n",
      "Value 84001: 368\n",
      "Value 85001: 817\n",
      "Value 86001: 753\n",
      "Value 87001: 543\n",
      "Value 88001: 1015\n",
      "Value 89001: 503\n",
      "Value 90001: 812\n",
      "Value 91001: 527\n",
      "Value 92001: 121\n",
      "Value 93001: 380\n",
      "Value 94001: 672\n",
      "Value 95001: 551\n",
      "Value 96001: 761\n",
      "Value 97001: 1005\n",
      "Value 98001: 157\n",
      "Value 99001: 67\n",
      "Total Time: 23.725563764572144\n"
     ]
    },
    {
     "data": {
      "image/png": "[encoded data removed]",
      "text/plain": [
       "<Figure size 432x288 with 1 Axes>"
      ]
     },
     "metadata": {
      "needs_background": "light"
     },
     "output_type": "display_data"
    },
    {
     "name": "stdout",
     "output_type": "stream",
     "text": [
      "53.5641 40.0 45.60690201148409\n"
     ]
    }
   ],
   "source": [
    "iter = int(input(\"How many iterations: \"))\n",
    "total_time = 0\n",
    "count_data = []\n",
    "\n",
    "\n",
    "for i in range(iter):\n",
    "    count = 0\n",
    "    t0 = time.time()\n",
    "    n = randint(0,1023)\n",
    "    if i%1000 == 0:\n",
    "        print(\"Value \"+str(i+1)+\":\",n)\n",
    "    while n != 0 and n != 1023:\n",
    "        count += 1\n",
    "        n = Generate(n)\n",
    "        #print(\"Gen\",str(count)+\":\",n)\n",
    "    count_data.append(count)\n",
    "    t1 = time.time()\n",
    "    total_time+= t1 - t0\n",
    "    \n",
    "print(\"Total Time:\",total_time)\n",
    "#times.append(t1-t0)\n",
    "\n",
    "plt.hist(count_data,bins=100)\n",
    "plt.show()\n",
    "print(mean(count_data),median(count_data),stdev(count_data))"
   ]
  },
  {
   "cell_type": "markdown",
   "id": "19a3e0bd-fe38-48f2-82ca-2119bd294a67",
   "metadata": {},
   "source": [
    "## Model 2\n",
    "\n",
    "This model is more generalizable, although less computationally efficient in the base case.\n",
    "\n",
    "I model the jar as a Jar object with population and number of phenotypes set by the user. \n",
    "The population of the jar is modeled as a dictionary. "
   ]
  },
  {
   "cell_type": "code",
   "execution_count": 206,
   "id": "9dd215d2-e0c7-48c8-ac5b-643ebb68fae3",
   "metadata": {},
   "outputs": [
    {
     "name": "stdout",
     "output_type": "stream",
     "text": [
      "10, 2, [5, 5], {0: 1, 1: 1, 2: 1, 3: 0, 4: 0, 5: 0, 6: 1, 7: 0, 8: 1, 9: 0}, 0\n",
      "10, 2, [10, 0], {0: 0, 1: 0, 2: 0, 3: 0, 4: 0, 5: 0, 6: 0, 7: 0, 8: 0, 9: 0}, 46\n",
      "46\n"
     ]
    }
   ],
   "source": [
    "\n",
    "class Jar():\n",
    "    pop = None\n",
    "    phen = None\n",
    "    pool_comp = []\n",
    "    pool = dict()\n",
    "    gen_count = 0\n",
    "    \n",
    "    def __init__(self,pop,phen):\n",
    "        self.pop = pop\n",
    "        self.phen = phen\n",
    "        self.pool_comp = [0 for i in range(phen)]\n",
    "        for i in range(pop):\n",
    "            next = randint(0,phen-1)\n",
    "            self.pool[i] = next\n",
    "            self.pool_comp[next] += 1\n",
    "        \n",
    "            \n",
    "    def generate(self):\n",
    "        key_1 = randint(0,self.pop-1)\n",
    "        key_2 = randint(0,self.pop-2)\n",
    "        key_2 += int(key_2 >= key_1)\n",
    "        \n",
    "        #print(key_1,key_2)\n",
    "        \n",
    "        a = self.pool[key_1]\n",
    "        b = self.pool[key_2]\n",
    "        self.pool[key_1] = self.pool[key_2]\n",
    "        if a != b:\n",
    "            self.pool_comp[a] -= 1\n",
    "            self.pool_comp[b] += 1\n",
    "            \n",
    "        self.gen_count += 1\n",
    "         \n",
    "    \n",
    "    def dump(self):\n",
    "        return str(self.pop) + \", \" + str(self.phen) + \", \" + str(self.pool_comp) + \", \" + str(self.pool) + \", \" +  str(self.gen_count)\n",
    "    \n",
    "    def is_done(self):\n",
    "        if max(self.pool_comp) == self.pop: return True\n",
    "        return False\n",
    "    \n",
    "\n",
    "\n",
    "j = Jar(10,2)\n",
    "print(j.dump())\n",
    "while not j.is_done():\n",
    "    j.generate()\n",
    "\n",
    "print(j.dump())\n",
    "print(j.gen_count)\n",
    "\n",
    "\n"
   ]
  },
  {
   "cell_type": "code",
   "execution_count": 208,
   "id": "c7223417-6f07-464e-a515-8f955a596a62",
   "metadata": {},
   "outputs": [
    {
     "name": "stdout",
     "output_type": "stream",
     "text": [
      "Jar Experiment\n",
      "**************\n",
      "\n"
     ]
    },
    {
     "name": "stdin",
     "output_type": "stream",
     "text": [
      "How Many Marbles:  10\n",
      "How Many Colors:  2\n",
      "How many iterations:  100000\n"
     ]
    },
    {
     "name": "stdout",
     "output_type": "stream",
     "text": [
      "Count 0: 200\n",
      "Count 1000: 46\n",
      "Count 2000: 8\n",
      "Count 3000: 15\n",
      "Count 4000: 51\n",
      "Count 5000: 36\n",
      "Count 6000: 93\n",
      "Count 7000: 111\n",
      "Count 8000: 39\n",
      "Count 9000: 48\n",
      "Count 10000: 20\n",
      "Count 11000: 59\n",
      "Count 12000: 52\n",
      "Count 13000: 33\n",
      "Count 14000: 48\n",
      "Count 15000: 14\n",
      "Count 16000: 97\n",
      "Count 17000: 75\n",
      "Count 18000: 23\n",
      "Count 19000: 149\n",
      "Count 20000: 241\n",
      "Count 21000: 41\n",
      "Count 22000: 12\n",
      "Count 23000: 49\n",
      "Count 24000: 47\n",
      "Count 25000: 238\n",
      "Count 26000: 17\n",
      "Count 27000: 68\n",
      "Count 28000: 21\n",
      "Count 29000: 11\n",
      "Count 30000: 33\n",
      "Count 31000: 17\n",
      "Count 32000: 116\n",
      "Count 33000: 58\n",
      "Count 34000: 49\n",
      "Count 35000: 202\n",
      "Count 36000: 106\n",
      "Count 37000: 19\n",
      "Count 38000: 156\n",
      "Count 39000: 13\n",
      "Count 40000: 50\n",
      "Count 41000: 8\n",
      "Count 42000: 23\n",
      "Count 43000: 21\n",
      "Count 44000: 152\n",
      "Count 45000: 61\n",
      "Count 46000: 4\n",
      "Count 47000: 74\n",
      "Count 48000: 69\n",
      "Count 49000: 21\n",
      "Count 50000: 57\n",
      "Count 51000: 10\n",
      "Count 52000: 22\n",
      "Count 53000: 29\n",
      "Count 54000: 45\n",
      "Count 55000: 11\n",
      "Count 56000: 38\n",
      "Count 57000: 18\n",
      "Count 58000: 34\n",
      "Count 59000: 60\n",
      "Count 60000: 58\n",
      "Count 61000: 16\n",
      "Count 62000: 48\n",
      "Count 63000: 57\n",
      "Count 64000: 84\n",
      "Count 65000: 8\n",
      "Count 66000: 37\n",
      "Count 67000: 61\n",
      "Count 68000: 17\n",
      "Count 69000: 177\n",
      "Count 70000: 74\n",
      "Count 71000: 55\n",
      "Count 72000: 54\n",
      "Count 73000: 80\n",
      "Count 74000: 96\n",
      "Count 75000: 36\n",
      "Count 76000: 42\n",
      "Count 77000: 22\n",
      "Count 78000: 15\n",
      "Count 79000: 41\n",
      "Count 80000: 14\n",
      "Count 81000: 16\n",
      "Count 82000: 40\n",
      "Count 83000: 35\n",
      "Count 84000: 22\n",
      "Count 85000: 25\n",
      "Count 86000: 75\n",
      "Count 87000: 132\n",
      "Count 88000: 45\n",
      "Count 89000: 111\n",
      "Count 90000: 57\n",
      "Count 91000: 47\n",
      "Count 92000: 38\n",
      "Count 93000: 32\n",
      "Count 94000: 90\n",
      "Count 95000: 147\n",
      "Count 96000: 44\n",
      "Count 97000: 36\n",
      "Count 98000: 9\n",
      "Count 99000: 127\n",
      "Total Time: 25.756446361541748\n"
     ]
    },
    {
     "data": {
      "image/png": "[encoded data removed]",
      "text/plain": [
       "<Figure size 432x288 with 1 Axes>"
      ]
     },
     "metadata": {
      "needs_background": "light"
     },
     "output_type": "display_data"
    },
    {
     "name": "stdout",
     "output_type": "stream",
     "text": [
      "53.47603 40.0 45.32806340196344\n"
     ]
    }
   ],
   "source": [
    "print(\"Jar Experiment\")\n",
    "print(\"**************\")\n",
    "print()\n",
    "\n",
    "pop = int(input(\"How Many Marbles: \"))\n",
    "phen = int(input(\"How Many Colors: \"))\n",
    "iter = int(input(\"How many iterations: \"))\n",
    "total_time = 0\n",
    "\n",
    "count_data = []\n",
    "total_time = 0\n",
    "\n",
    "for i in range(iter):\n",
    "    t0 = time.time()\n",
    "    j = Jar(pop,phen)\n",
    "    while not j.is_done():\n",
    "        j.generate()\n",
    "    count_data.append(j.gen_count)\n",
    "    if i%1000 == 0:\n",
    "        print(\"Count \"+str(i)+\":\",j.gen_count)\n",
    "    t1 = time.time()\n",
    "    total_time += t1 - t0\n",
    "\n",
    "print(\"Total Time:\",total_time)\n",
    "\n",
    "plt.hist(count_data,bins=100)\n",
    "plt.show()\n",
    "print(mean(count_data),median(count_data),stdev(count_data))\n",
    "\n",
    "\n",
    "    "
   ]
  }
 ],
 "metadata": {
  "kernelspec": {
   "display_name": "Python 3",
   "language": "python",
   "name": "python3"
  },
  "language_info": {
   "codemirror_mode": {
    "name": "ipython",
    "version": 3
   },
   "file_extension": ".py",
   "mimetype": "text/x-python",
   "name": "python",
   "nbconvert_exporter": "python",
   "pygments_lexer": "ipython3",
   "version": "3.9.4"
  }
 },
 "nbformat": 4,
 "nbformat_minor": 5
}
