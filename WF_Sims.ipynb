{
 "cells": [
  {
   "cell_type": "markdown",
   "id": "2f27d61b-6619-454b-874e-b08768b9f98b",
   "metadata": {},
   "source": [
    "# WF Sims\n",
    "\n",
    "Given an algorithm Generation on a jar of 10 randomly chosen marbles which are either red or white,\n",
    "\n",
    "Generation(n):\n",
    "    pick a marble, $M$, from the jar at random;\n",
    "    pick a different marble, $M'$, from the jar at random;\n",
    "    swap the $M$ for a marble of the same color as $M'$.\n",
    "    \n",
    "The expected probability of the color of $M'$ is the presence of that color in the jar, excluding $M$.\n",
    "If one color begins to predominate, the probability of that color increasing its presence is higher than the likelihood of a comeback for the other color.\n",
    "Furthermore, once a color makes up all of the jar, there is no further change in color. \n",
    "I expect that one color will always fill the jar sooner or later. \n",
    "\n",
    "## Question\n",
    "What is the average number of iterations until the jar is full?\n",
    "\n",
    "\n",
    "## Model 1\n",
    "Model a bucket of ten items with two phenotypes as the binary expression of an integer $0 < n < 2^{10}-1$.\n"
   ]
  },
  {
   "cell_type": "code",
   "execution_count": 18,
   "id": "ce5dc4dd-ad28-49a3-b42d-c2dfa7fc158a",
   "metadata": {},
   "outputs": [
    {
     "name": "stdout",
     "output_type": "stream",
     "text": [
      "128\n"
     ]
    }
   ],
   "source": [
    "from random import randint\n",
    "from matplotlib import pyplot as plt\n",
    "from statistics import mean, median, stdev\n",
    "import time\n",
    "\n",
    "n = randint(0,1023)\n",
    "print(n)\n"
   ]
  },
  {
   "cell_type": "markdown",
   "id": "3732e2e2-2fdd-424a-82fa-95b786dc4501",
   "metadata": {},
   "source": [
    "Pick a digit at random.\n",
    "Pick a second, different digit at random."
   ]
  },
  {
   "cell_type": "code",
   "execution_count": 19,
   "id": "9c6b0488-d2c8-4eb7-9d61-53eec9067d52",
   "metadata": {},
   "outputs": [
    {
     "name": "stdout",
     "output_type": "stream",
     "text": [
      "4\n",
      "2\n"
     ]
    }
   ],
   "source": [
    "i = randint(0,9)\n",
    "pick_1 = 2**i\n",
    "print(pick_1)\n",
    "j = randint(0,8)\n",
    "pick_2 = 2**(j + int(j >= i))\n",
    "print(pick_2)"
   ]
  },
  {
   "cell_type": "markdown",
   "id": "20441bad-7fbb-43a7-9fdd-0eacd8bf1810",
   "metadata": {},
   "source": [
    "If the pick_2 digit in $n$ is 1, change the pick_1 digit to 1.\n",
    "Otherwise, change the pick_1 digit to 0."
   ]
  },
  {
   "cell_type": "code",
   "execution_count": 20,
   "id": "d2685d04-c9aa-4e5c-a2b4-9dedad4ea280",
   "metadata": {},
   "outputs": [
    {
     "name": "stdout",
     "output_type": "stream",
     "text": [
      "128\n"
     ]
    }
   ],
   "source": [
    "if n & pick_2 > 0:\n",
    "    n = n | pick_1\n",
    "else:\n",
    "    n = n & (~ pick_1)\n",
    "print(n)"
   ]
  },
  {
   "cell_type": "markdown",
   "id": "38be48b0-57fe-4dd2-bb09-815c3d02802c",
   "metadata": {},
   "source": [
    "Giving us our desired function, Generate."
   ]
  },
  {
   "cell_type": "code",
   "execution_count": 34,
   "id": "058ba7fc-159d-4233-9121-945647b21a69",
   "metadata": {},
   "outputs": [
    {
     "name": "stdin",
     "output_type": "stream",
     "text": [
      "How many iterations:  0\n"
     ]
    },
    {
     "name": "stdout",
     "output_type": "stream",
     "text": [
      "Initial value: 939\n",
      "Gen 1: 943\n",
      "Gen 2: 943\n",
      "Gen 3: 1007\n",
      "Gen 4: 1007\n",
      "Gen 5: 495\n",
      "Gen 6: 495\n",
      "Gen 7: 495\n",
      "Gen 8: 495\n",
      "Gen 9: 495\n",
      "Gen 10: 495\n",
      "Gen 11: 495\n",
      "Gen 12: 495\n",
      "Gen 13: 495\n",
      "Gen 14: 487\n",
      "Gen 15: 487\n",
      "Gen 16: 485\n",
      "Gen 17: 501\n",
      "Gen 18: 501\n",
      "Gen 19: 373\n",
      "Gen 20: 885\n",
      "Gen 21: 881\n",
      "Gen 22: 881\n",
      "Gen 23: 881\n",
      "Gen 24: 817\n",
      "Gen 25: 817\n",
      "Gen 26: 817\n",
      "Gen 27: 945\n",
      "Gen 28: 945\n",
      "Gen 29: 945\n",
      "Gen 30: 947\n",
      "Gen 31: 947\n",
      "Gen 32: 947\n",
      "Gen 33: 951\n",
      "Gen 34: 951\n",
      "Gen 35: 951\n",
      "Gen 36: 919\n",
      "Gen 37: 919\n",
      "Gen 38: 951\n",
      "Gen 39: 951\n",
      "Gen 40: 951\n",
      "Gen 41: 951\n",
      "Gen 42: 951\n",
      "Gen 43: 951\n",
      "Gen 44: 951\n",
      "Gen 45: 695\n",
      "Gen 46: 695\n",
      "Gen 47: 567\n",
      "Gen 48: 551\n",
      "Gen 49: 551\n",
      "Gen 50: 551\n",
      "Gen 51: 551\n",
      "Gen 52: 679\n",
      "Gen 53: 679\n",
      "Gen 54: 935\n",
      "Gen 55: 951\n",
      "Gen 56: 1015\n",
      "Gen 57: 1015\n",
      "Gen 58: 1015\n",
      "Gen 59: 1015\n",
      "Gen 60: 1015\n",
      "Gen 61: 1015\n",
      "Gen 62: 1015\n",
      "Gen 63: 1015\n",
      "Gen 64: 1015\n",
      "Gen 65: 1015\n",
      "Gen 66: 1015\n",
      "Gen 67: 1015\n",
      "Gen 68: 503\n",
      "Gen 69: 503\n",
      "Gen 70: 511\n",
      "Gen 71: 511\n",
      "Gen 72: 511\n",
      "Gen 73: 511\n",
      "Gen 74: 511\n",
      "Gen 75: 511\n",
      "Gen 76: 511\n",
      "Gen 77: 511\n",
      "Gen 78: 511\n",
      "Gen 79: 511\n",
      "Gen 80: 511\n",
      "Gen 81: 511\n",
      "Gen 82: 510\n",
      "Gen 83: 446\n",
      "Gen 84: 958\n",
      "Gen 85: 958\n",
      "Gen 86: 958\n",
      "Gen 87: 958\n",
      "Gen 88: 958\n",
      "Gen 89: 830\n",
      "Gen 90: 830\n",
      "Gen 91: 831\n",
      "Gen 92: 831\n",
      "Gen 93: 831\n",
      "Gen 94: 895\n",
      "Gen 95: 895\n",
      "Gen 96: 895\n",
      "Gen 97: 895\n",
      "Gen 98: 895\n",
      "Gen 99: 895\n",
      "Gen 100: 895\n",
      "Gen 101: 895\n",
      "Gen 102: 1023\n",
      "Total Time: 0.016951560974121094\n",
      "0b1111111111\n"
     ]
    }
   ],
   "source": [
    "def Generate(n):\n",
    "    i = randint(0,9)\n",
    "    pick_1 = 2**i\n",
    "    j = randint(0,8)\n",
    "    pick_2 = 2**(j + int(j >= i))\n",
    "    if n & pick_2 > 0:\n",
    "        n = n | pick_1\n",
    "    else:\n",
    "        n = n & (~ pick_1)\n",
    "    return n\n",
    "\n",
    "count = 1\n",
    "t0 = time.time()\n",
    "n = randint(0,1023)\n",
    "print(\"Initial value:\",n)\n",
    "while n != 0 and n != 1023:\n",
    "    n = Generate(n)\n",
    "    print(\"Gen\",str(count)+\":\",n)\n",
    "    count += 1\n",
    "t1 = time.time()\n",
    "print(\"Total Time:\",t1-t0)\n",
    "#times.append(t1-t0)\n",
    "    \n",
    "print(bin(n))\n",
    "\n",
    "\n"
   ]
  },
  {
   "cell_type": "markdown",
   "id": "1a751dda-2259-409a-85e7-d511fd380792",
   "metadata": {},
   "source": [
    "\n",
    "\n",
    "Experimenting with histograms:"
   ]
  },
  {
   "cell_type": "code",
   "execution_count": 212,
   "id": "aaa2d6a9-e1ef-423c-9ea1-f536791423d5",
   "metadata": {},
   "outputs": [
    {
     "name": "stdin",
     "output_type": "stream",
     "text": [
      "How many iterations:  100000\n"
     ]
    },
    {
     "name": "stdout",
     "output_type": "stream",
     "text": [
      "Value 0: 781\n",
      "Count 0: 13\n",
      "Time Elapsed: 0.0010039806365966797\n",
      "Value 10000: 623\n",
      "Count 10000: 48\n",
      "Time Elapsed: 2.457263469696045\n",
      "Value 20000: 85\n",
      "Count 20000: 12\n",
      "Time Elapsed: 4.693802833557129\n",
      "Value 30000: 433\n",
      "Count 30000: 60\n",
      "Time Elapsed: 7.006453990936279\n",
      "Value 40000: 483\n",
      "Count 40000: 80\n",
      "Time Elapsed: 9.61548376083374\n",
      "Value 50000: 980\n",
      "Count 50000: 75\n",
      "Time Elapsed: 12.131474494934082\n",
      "Value 60000: 870\n",
      "Count 60000: 15\n",
      "Time Elapsed: 14.19037127494812\n",
      "Value 70000: 420\n",
      "Count 70000: 286\n",
      "Time Elapsed: 16.22065019607544\n",
      "Value 80000: 97\n",
      "Count 80000: 42\n",
      "Time Elapsed: 18.32060742378235\n",
      "Value 90000: 209\n",
      "Count 90000: 133\n",
      "Time Elapsed: 20.404953956604004\n",
      "Total Time: 22.54343342781067\n"
     ]
    },
    {
     "data": {
      "image/png": "[encoded data removed]",
      "text/plain": [
       "<Figure size 432x288 with 1 Axes>"
      ]
     },
     "metadata": {
      "needs_background": "light"
     },
     "output_type": "display_data"
    },
    {
     "name": "stdout",
     "output_type": "stream",
     "text": [
      "Mean: 53.25042 Median: 40.0 St Dev: 45.106949976616264\n"
     ]
    }
   ],
   "source": [
    "iter = int(input(\"How many iterations: \"))\n",
    "total_time = 0\n",
    "count_data = []\n",
    "\n",
    "\n",
    "for i in range(iter):\n",
    "    count = 0\n",
    "    t0 = time.time()\n",
    "    n = randint(0,1023)\n",
    "    if i%10000 == 0:\n",
    "        print(\"Value \"+str(i)+\":\",n)\n",
    "    \n",
    "    while n != 0 and n != 1023:\n",
    "        count += 1\n",
    "        n = Generate(n)\n",
    "        #print(\"Gen\",str(count)+\":\",n)\n",
    "    t1 = time.time()\n",
    "    total_time+= t1 - t0\n",
    "    if i%10000==0:\n",
    "        print(\"Count \"+str(i)+\":\",count)\n",
    "        print(\"Time Elapsed:\",total_time)\n",
    "    count_data.append(count)\n",
    "\n",
    "    \n",
    "print(\"Total Time:\",total_time)\n",
    "#times.append(t1-t0)\n",
    "\n",
    "plt.hist(count_data,bins=100)\n",
    "plt.show()\n",
    "print(\"Mean:\",mean(count_data),\"Median:\",median(count_data),\"St Dev:\",stdev(count_data))"
   ]
  },
  {
   "cell_type": "markdown",
   "id": "19a3e0bd-fe38-48f2-82ca-2119bd294a67",
   "metadata": {},
   "source": [
    "## Model 2\n",
    "\n",
    "This model is more generalizable, although less computationally efficient in the base case.\n",
    "\n",
    "I model the jar as a Jar object with population and number of phenotypes set by the user. \n",
    "The population of the jar is modeled as a dictionary. "
   ]
  },
  {
   "cell_type": "code",
   "execution_count": 213,
   "id": "9dd215d2-e0c7-48c8-ac5b-643ebb68fae3",
   "metadata": {},
   "outputs": [
    {
     "name": "stdout",
     "output_type": "stream",
     "text": [
      "10, 2, [3, 7], {0: 1, 1: 1, 2: 1, 3: 0, 4: 1, 5: 0, 6: 0, 7: 1, 8: 1, 9: 1}, 0\n",
      "10, 2, [0, 10], {0: 1, 1: 1, 2: 1, 3: 1, 4: 1, 5: 1, 6: 1, 7: 1, 8: 1, 9: 1}, 183\n",
      "183\n"
     ]
    }
   ],
   "source": [
    "class Jar():\n",
    "    pop = None\n",
    "    phen = None\n",
    "    pool_comp = []\n",
    "    pool = dict()\n",
    "    gen_count = 0\n",
    "    \n",
    "    def __init__(self,pop,phen):\n",
    "        self.pop = pop\n",
    "        self.phen = phen\n",
    "        self.pool_comp = [0 for i in range(phen)]\n",
    "        for i in range(pop):\n",
    "            next = randint(0,phen-1)\n",
    "            self.pool[i] = next\n",
    "            self.pool_comp[next] += 1\n",
    "        \n",
    "            \n",
    "    def generate(self):\n",
    "        key_1 = randint(0,self.pop-1)\n",
    "        key_2 = randint(0,self.pop-2)\n",
    "        key_2 += int(key_2 >= key_1)\n",
    "        \n",
    "        #print(key_1,key_2)\n",
    "        \n",
    "        a = self.pool[key_1]\n",
    "        b = self.pool[key_2]\n",
    "        self.pool[key_1] = self.pool[key_2]\n",
    "        if a != b:\n",
    "            self.pool_comp[a] -= 1\n",
    "            self.pool_comp[b] += 1\n",
    "            \n",
    "        self.gen_count += 1\n",
    "         \n",
    "    \n",
    "    def dump(self):\n",
    "        return str(self.pop) + \", \" + str(self.phen) + \", \" + str(self.pool_comp) + \", \" + str(self.pool) + \", \" +  str(self.gen_count)\n",
    "    \n",
    "    def is_done(self):\n",
    "        if max(self.pool_comp) == self.pop: return True\n",
    "        return False\n",
    "    \n",
    "\n",
    "\n",
    "j = Jar(10,2)\n",
    "print(j.dump())\n",
    "while not j.is_done():\n",
    "    j.generate()\n",
    "\n",
    "print(j.dump())\n",
    "print(j.gen_count)\n",
    "\n",
    "\n"
   ]
  },
  {
   "cell_type": "code",
   "execution_count": 214,
   "id": "c7223417-6f07-464e-a515-8f955a596a62",
   "metadata": {},
   "outputs": [
    {
     "name": "stdout",
     "output_type": "stream",
     "text": [
      "Jar Experiment\n",
      "**************\n",
      "\n"
     ]
    },
    {
     "name": "stdin",
     "output_type": "stream",
     "text": [
      "How Many Marbles:  10\n",
      "How Many Colors:  2\n",
      "How many iterations:  100000\n"
     ]
    },
    {
     "name": "stdout",
     "output_type": "stream",
     "text": [
      "Count 0: 2\n",
      "Time Elapsed: 0.0009958744049072266\n",
      "Count 10000: 114\n",
      "Time Elapsed: 2.3297581672668457\n",
      "Count 20000: 104\n",
      "Time Elapsed: 4.68178391456604\n",
      "Count 30000: 3\n",
      "Time Elapsed: 7.3491997718811035\n",
      "Count 40000: 74\n",
      "Time Elapsed: 9.804757595062256\n",
      "Count 50000: 13\n",
      "Time Elapsed: 12.401286125183105\n",
      "Count 60000: 35\n",
      "Time Elapsed: 14.892069816589355\n",
      "Count 70000: 30\n",
      "Time Elapsed: 17.412832021713257\n",
      "Count 80000: 38\n",
      "Time Elapsed: 19.680789947509766\n",
      "Count 90000: 79\n",
      "Time Elapsed: 22.244836807250977\n",
      "Total Time: 24.86868405342102\n"
     ]
    },
    {
     "data": {
      "image/png": "[encoded data removed]",
      "text/plain": [
       "<Figure size 432x288 with 1 Axes>"
      ]
     },
     "metadata": {
      "needs_background": "light"
     },
     "output_type": "display_data"
    },
    {
     "name": "stdout",
     "output_type": "stream",
     "text": [
      "Mean: 53.46753 Median: 40.0 St Dev: 45.32448310556655\n"
     ]
    }
   ],
   "source": [
    "print(\"Jar Experiment\")\n",
    "print(\"**************\")\n",
    "print()\n",
    "\n",
    "pop = int(input(\"How Many Marbles: \"))\n",
    "phen = int(input(\"How Many Colors: \"))\n",
    "iter = int(input(\"How many iterations: \"))\n",
    "total_time = 0\n",
    "\n",
    "count_data = []\n",
    "total_time = 0\n",
    "\n",
    "for i in range(iter):\n",
    "    t0 = time.time()\n",
    "    j = Jar(pop,phen)\n",
    "    while not j.is_done():\n",
    "        j.generate()\n",
    "    count_data.append(j.gen_count)\n",
    "    t1 = time.time()\n",
    "    total_time += t1 - t0\n",
    "    if i%10000 == 0:\n",
    "        print(\"Count \"+str(i)+\":\",j.gen_count)\n",
    "        print(\"Time Elapsed:\", total_time)\n",
    "    \n",
    "\n",
    "print(\"Total Time:\",total_time)\n",
    "\n",
    "plt.hist(count_data,bins=100)\n",
    "plt.show()\n",
    "print(\"Mean:\",mean(count_data),\"Median:\",median(count_data),\"St Dev:\",stdev(count_data))\n",
    "\n",
    "\n",
    "    "
   ]
  }
 ],
 "metadata": {
  "kernelspec": {
   "display_name": "Python 3",
   "language": "python",
   "name": "python3"
  },
  "language_info": {
   "codemirror_mode": {
    "name": "ipython",
    "version": 3
   },
   "file_extension": ".py",
   "mimetype": "text/x-python",
   "name": "python",
   "nbconvert_exporter": "python",
   "pygments_lexer": "ipython3",
   "version": "3.9.4"
  }
 },
 "nbformat": 4,
 "nbformat_minor": 5
}
